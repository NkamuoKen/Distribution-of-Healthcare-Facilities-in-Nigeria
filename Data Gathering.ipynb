{
 "cells": [
  {
   "cell_type": "markdown",
   "id": "7d967d68",
   "metadata": {},
   "source": [
    "# Data Gathering"
   ]
  },
  {
   "cell_type": "code",
   "execution_count": 1,
   "id": "e437d6ab",
   "metadata": {},
   "outputs": [],
   "source": [
    "# We will have to import the relevant libraries for web scraping\n",
    "\n",
    "import requests\n",
    "from bs4 import BeautifulSoup"
   ]
  },
  {
   "cell_type": "code",
   "execution_count": 2,
   "id": "5f3afd3d",
   "metadata": {},
   "outputs": [
    {
     "name": "stdout",
     "output_type": "stream",
     "text": [
      "Done!\n"
     ]
    }
   ],
   "source": [
    "# For Abia State\n",
    "\n",
    "abia_url_1 = 'https://hfr.health.gov.ng/facilities/hospitals-search?_token=qYDNQ5MTIChZNqjwBLtUnaaGrtqvdqXInRaWuk7A&state_id=101&lga_id=&ward_id=&facility_level_id=0&ownership_id=0&operational_status_id=1&registration_status_id=0&license_status_id=0&geo_codes=0&service_type=0&service_category_id=0&facility_name=&entries_per_page=500#'\n",
    "abia_response_1 = requests.get(abia_url_1)\n",
    "\n",
    "if abia_response_1.status_code == 200:\n",
    "    abia_soup_1 = BeautifulSoup(abia_response_1.text, 'html.parser')\n",
    "    abia_buttons_1 = abia_soup_1.find_all('button', class_='btn btn-success btn-sm')\n",
    "\n",
    "    extracted_data = []\n",
    "    \n",
    "    for abia_button_1 in abia_buttons_1:\n",
    "        abia_data_attributes_1 = {key.replace('data-', ''): value for key, value in abia_button_1.attrs.items() if key != 'class'}\n",
    "    \n",
    "        extracted_data.append(abia_data_attributes_1)\n",
    "    print('Done!')\n",
    "\n",
    "else:\n",
    "    print(f\"Failed to retrieve the webpage. Status code: {abia_response_1.status_code}\")"
   ]
  },
  {
   "cell_type": "code",
   "execution_count": 3,
   "id": "b5ece16f",
   "metadata": {},
   "outputs": [
    {
     "name": "stdout",
     "output_type": "stream",
     "text": [
      "Done!\n"
     ]
    }
   ],
   "source": [
    "abia_url_2 = 'https://hfr.health.gov.ng/facilities/hospitals-search?_token=qYDNQ5MTIChZNqjwBLtUnaaGrtqvdqXInRaWuk7A&state_id=101&facility_level_id=0&ownership_id=0&operational_status_id=1&registration_status_id=0&license_status_id=0&geo_codes=0&service_type=0&service_category_id=0&entries_per_page=500&page=2'\n",
    "abia_response_2 = requests.get(abia_url_2)\n",
    "\n",
    "if abia_response_2.status_code == 200:\n",
    "    abia_soup_2 = BeautifulSoup(abia_response_2.text, 'html.parser')\n",
    "    abia_buttons_2 = abia_soup_2.find_all('button', class_='btn btn-success btn-sm')\n",
    "\n",
    "    \n",
    "    for abia_button_2 in abia_buttons_2:\n",
    "        abia_data_attributes_2 = {key.replace('data-', ''): value for key, value in abia_button_2.attrs.items() if key != 'class'}\n",
    "    \n",
    "        extracted_data.append(abia_data_attributes_2)\n",
    "    print('Done!')\n",
    "\n",
    "else:\n",
    "    print(f\"Failed to retrieve the webpage. Status code: {abia_response_2.status_code}\")"
   ]
  },
  {
   "cell_type": "code",
   "execution_count": 4,
   "id": "70e6b074",
   "metadata": {},
   "outputs": [
    {
     "name": "stdout",
     "output_type": "stream",
     "text": [
      "Done!\n"
     ]
    }
   ],
   "source": [
    "abia_url_3 = 'https://hfr.health.gov.ng/facilities/hospitals-search?_token=qYDNQ5MTIChZNqjwBLtUnaaGrtqvdqXInRaWuk7A&state_id=101&facility_level_id=0&ownership_id=0&operational_status_id=1&registration_status_id=0&license_status_id=0&geo_codes=0&service_type=0&service_category_id=0&entries_per_page=500&page=3'\n",
    "abia_response_3 = requests.get(abia_url_3)\n",
    "\n",
    "if abia_response_3.status_code == 200:\n",
    "    abia_soup_3 = BeautifulSoup(abia_response_3.text, 'html.parser')\n",
    "    abia_buttons_3 = abia_soup_3.find_all('button', class_='btn btn-success btn-sm')\n",
    "\n",
    "    \n",
    "    for abia_button_3 in abia_buttons_3:\n",
    "        abia_data_attributes_3 = {key.replace('data-', ''): value for key, value in abia_button_3.attrs.items() if key != 'class'}\n",
    "    \n",
    "        extracted_data.append(abia_data_attributes_3)\n",
    "    print('Done!')\n",
    "\n",
    "else:\n",
    "    print(f\"Failed to retrieve the webpage. Status code: {abia_response_3.status_code}\")"
   ]
  },
  {
   "cell_type": "code",
   "execution_count": 5,
   "id": "cec4786e",
   "metadata": {},
   "outputs": [
    {
     "name": "stdout",
     "output_type": "stream",
     "text": [
      "Done!\n"
     ]
    }
   ],
   "source": [
    "# For Adamawa State\n",
    "\n",
    "adamawa_url_1 = 'https://hfr.health.gov.ng/facilities/hospitals-search?_token=9ycyuChNtWK5HxHTOLB9wECGfkZaI8mK2LjPn8tB&state_id=102&lga_id=&ward_id=0&facility_level_id=0&ownership_id=0&operational_status_id=1&registration_status_id=0&license_status_id=0&geo_codes=0&service_type=0&service_category_id=0&facility_name=&entries_per_page=500#'\n",
    "adamawa_response_1 = requests.get(adamawa_url_1)\n",
    "\n",
    "if adamawa_response_1.status_code == 200:\n",
    "    adamawa_soup_1 = BeautifulSoup(adamawa_response_1.text, 'html.parser')\n",
    "    adamawa_buttons_1 = adamawa_soup_1.find_all('button', class_='btn btn-success btn-sm')\n",
    "\n",
    "    \n",
    "    for adamawa_button_1 in adamawa_buttons_1:\n",
    "        adamawa_data_attributes_1 = {key.replace('data-', ''): value for key, value in adamawa_button_1.attrs.items() if key != 'class'}\n",
    "    \n",
    "        extracted_data.append(adamawa_data_attributes_1)\n",
    "    print('Done!')\n",
    "\n",
    "else:\n",
    "    print(f\"Failed to retrieve the webpage. Status code: {adamawa_response_1.status_code}\")"
   ]
  },
  {
   "cell_type": "code",
   "execution_count": 6,
   "id": "ff51173a",
   "metadata": {},
   "outputs": [
    {
     "name": "stdout",
     "output_type": "stream",
     "text": [
      "Done!\n"
     ]
    }
   ],
   "source": [
    "adamawa_url_2 = 'https://hfr.health.gov.ng/facilities/hospitals-search?_token=9ycyuChNtWK5HxHTOLB9wECGfkZaI8mK2LjPn8tB&state_id=102&ward_id=0&facility_level_id=0&ownership_id=0&operational_status_id=1&registration_status_id=0&license_status_id=0&geo_codes=0&service_type=0&service_category_id=0&entries_per_page=500&page=2'\n",
    "adamawa_response_2 = requests.get(adamawa_url_2)\n",
    "\n",
    "if adamawa_response_2.status_code == 200:\n",
    "    adamawa_soup_2 = BeautifulSoup(adamawa_response_2.text, 'html.parser')\n",
    "    adamawa_buttons_2 = adamawa_soup_2.find_all('button', class_='btn btn-success btn-sm')\n",
    "\n",
    "    \n",
    "    for adamawa_button_2 in adamawa_buttons_2:\n",
    "        adamawa_data_attributes_2 = {key.replace('data-', ''): value for key, value in adamawa_button_2.attrs.items() if key != 'class'}\n",
    "    \n",
    "        extracted_data.append(adamawa_data_attributes_2)\n",
    "    print('Done!')\n",
    "\n",
    "else:\n",
    "    print(f\"Failed to retrieve the webpage. Status code: {adamawa_response_2.status_code}\")"
   ]
  },
  {
   "cell_type": "code",
   "execution_count": 7,
   "id": "4ead2282",
   "metadata": {},
   "outputs": [
    {
     "name": "stdout",
     "output_type": "stream",
     "text": [
      "Done!\n"
     ]
    }
   ],
   "source": [
    "# For Akwa-Ibom\n",
    "\n",
    "akwa_ibom_url_1 = 'https://hfr.health.gov.ng/facilities/hospitals-search?_token=9ycyuChNtWK5HxHTOLB9wECGfkZaI8mK2LjPn8tB&state_id=103&lga_id=&ward_id=0&facility_level_id=0&ownership_id=0&operational_status_id=1&registration_status_id=0&license_status_id=0&geo_codes=0&service_type=0&service_category_id=0&facility_name=&entries_per_page=500'\n",
    "akwa_ibom_response_1 = requests.get(akwa_ibom_url_1)\n",
    "\n",
    "if akwa_ibom_response_1.status_code == 200:\n",
    "    akwa_ibom_soup_1 = BeautifulSoup(akwa_ibom_response_1.text, 'html.parser')\n",
    "    akwa_ibom_buttons_1 = akwa_ibom_soup_1.find_all('button', class_='btn btn-success btn-sm')\n",
    "\n",
    "    \n",
    "    for akwa_ibom_button_1 in akwa_ibom_buttons_1:\n",
    "        akwa_ibom_data_attributes_1 = {key.replace('data-', ''): value for key, value in akwa_ibom_button_1.attrs.items() if key != 'class'}\n",
    "    \n",
    "        extracted_data.append(akwa_ibom_data_attributes_1)\n",
    "    print('Done!')\n",
    "\n",
    "else:\n",
    "    print(f\"Failed to retrieve the webpage. Status code: {akwa_ibom_response_1.status_code}\")"
   ]
  },
  {
   "cell_type": "code",
   "execution_count": 8,
   "id": "1036d0bb",
   "metadata": {},
   "outputs": [
    {
     "name": "stdout",
     "output_type": "stream",
     "text": [
      "Done!\n"
     ]
    }
   ],
   "source": [
    "akwa_ibom_url_2 = 'https://hfr.health.gov.ng/facilities/hospitals-search?_token=9ycyuChNtWK5HxHTOLB9wECGfkZaI8mK2LjPn8tB&state_id=103&ward_id=0&facility_level_id=0&ownership_id=0&operational_status_id=1&registration_status_id=0&license_status_id=0&geo_codes=0&service_type=0&service_category_id=0&entries_per_page=500&page=2'\n",
    "akwa_ibom_response_2 = requests.get(akwa_ibom_url_2)\n",
    "\n",
    "if akwa_ibom_response_2.status_code == 200:\n",
    "    akwa_ibom_soup_2 = BeautifulSoup(akwa_ibom_response_2.text, 'html.parser')\n",
    "    akwa_ibom_buttons_2 = akwa_ibom_soup_2.find_all('button', class_='btn btn-success btn-sm')\n",
    "\n",
    "    \n",
    "    for akwa_ibom_button_2 in akwa_ibom_buttons_2:\n",
    "        akwa_ibom_data_attributes_2 = {key.replace('data-', ''): value for key, value in akwa_ibom_button_2.attrs.items() if key != 'class'}\n",
    "    \n",
    "        extracted_data.append(akwa_ibom_data_attributes_2)\n",
    "    print('Done!')\n",
    "\n",
    "else:\n",
    "    print(f\"Failed to retrieve the webpage. Status code: {akwa_ibom_response_2.status_code}\")"
   ]
  },
  {
   "cell_type": "code",
   "execution_count": 9,
   "id": "797f0c43",
   "metadata": {},
   "outputs": [
    {
     "name": "stdout",
     "output_type": "stream",
     "text": [
      "Done!\n"
     ]
    }
   ],
   "source": [
    "#For Anambra State\n",
    "\n",
    "anambra_url_1 = 'https://hfr.health.gov.ng/facilities/hospitals-search?_token=9ycyuChNtWK5HxHTOLB9wECGfkZaI8mK2LjPn8tB&state_id=104&lga_id=&ward_id=0&facility_level_id=0&ownership_id=0&operational_status_id=1&registration_status_id=0&license_status_id=0&geo_codes=0&service_type=0&service_category_id=0&facility_name=&entries_per_page=500'\n",
    "anambra_response_1 = requests.get(anambra_url_1)\n",
    "\n",
    "if anambra_response_1.status_code == 200:\n",
    "    anambra_soup_1 = BeautifulSoup(anambra_response_1.text, 'html.parser')\n",
    "    anambra_buttons_1 = anambra_soup_1.find_all('button', class_='btn btn-success btn-sm')\n",
    "\n",
    "    \n",
    "    for anambra_button_1 in anambra_buttons_1:\n",
    "        anambra_data_attributes_1 = {key.replace('data-', ''): value for key, value in anambra_button_1.attrs.items() if key != 'class'}\n",
    "    \n",
    "        extracted_data.append(anambra_data_attributes_1)\n",
    "    print('Done!')\n",
    "\n",
    "else:\n",
    "    print(f\"Failed to retrieve the webpage. Status code: {anambra_response_1.status_code}\")"
   ]
  },
  {
   "cell_type": "code",
   "execution_count": 10,
   "id": "2c6ac379",
   "metadata": {},
   "outputs": [
    {
     "name": "stdout",
     "output_type": "stream",
     "text": [
      "Done!\n"
     ]
    }
   ],
   "source": [
    "anambra_url_2 = 'https://hfr.health.gov.ng/facilities/hospitals-search?_token=9ycyuChNtWK5HxHTOLB9wECGfkZaI8mK2LjPn8tB&state_id=104&ward_id=0&facility_level_id=0&ownership_id=0&operational_status_id=1&registration_status_id=0&license_status_id=0&geo_codes=0&service_type=0&service_category_id=0&entries_per_page=500&page=2'\n",
    "anambra_response_2 = requests.get(anambra_url_2)\n",
    "\n",
    "if anambra_response_2.status_code == 200:\n",
    "    anambra_soup_2 = BeautifulSoup(anambra_response_2.text, 'html.parser')\n",
    "    anambra_buttons_2 = anambra_soup_2.find_all('button', class_='btn btn-success btn-sm')\n",
    "\n",
    "    \n",
    "    for anambra_button_2 in anambra_buttons_2:\n",
    "        anambra_data_attributes_2 = {key.replace('data-', ''): value for key, value in anambra_button_2.attrs.items() if key != 'class'}\n",
    "    \n",
    "        extracted_data.append(anambra_data_attributes_2)\n",
    "    print('Done!')\n",
    "\n",
    "else:\n",
    "    print(f\"Failed to retrieve the webpage. Status code: {anambra_response_2.status_code}\")"
   ]
  },
  {
   "cell_type": "code",
   "execution_count": 11,
   "id": "3619d1c4",
   "metadata": {},
   "outputs": [
    {
     "name": "stdout",
     "output_type": "stream",
     "text": [
      "Done!\n"
     ]
    }
   ],
   "source": [
    "anambra_url_3 = 'https://hfr.health.gov.ng/facilities/hospitals-search?_token=9ycyuChNtWK5HxHTOLB9wECGfkZaI8mK2LjPn8tB&state_id=104&ward_id=0&facility_level_id=0&ownership_id=0&operational_status_id=1&registration_status_id=0&license_status_id=0&geo_codes=0&service_type=0&service_category_id=0&entries_per_page=500&page=3'\n",
    "anambra_response_3 = requests.get(anambra_url_3)\n",
    "\n",
    "if anambra_response_3.status_code == 200:\n",
    "    anambra_soup_3 = BeautifulSoup(anambra_response_3.text, 'html.parser')\n",
    "    anambra_buttons_3 = anambra_soup_3.find_all('button', class_='btn btn-success btn-sm')\n",
    "\n",
    "    \n",
    "    for anambra_button_3 in anambra_buttons_3:\n",
    "        anambra_data_attributes_3 = {key.replace('data-', ''): value for key, value in anambra_button_3.attrs.items() if key != 'class'}\n",
    "    \n",
    "        extracted_data.append(anambra_data_attributes_3)\n",
    "    print('Done!')\n",
    "\n",
    "else:\n",
    "    print(f\"Failed to retrieve the webpage. Status code: {anambra_response_3.status_code}\")"
   ]
  },
  {
   "cell_type": "code",
   "execution_count": 12,
   "id": "2d789ce0",
   "metadata": {},
   "outputs": [
    {
     "name": "stdout",
     "output_type": "stream",
     "text": [
      "Done!\n"
     ]
    }
   ],
   "source": [
    "# For Bauchi State\n",
    "\n",
    "bauchi_url_1 = 'https://hfr.health.gov.ng/facilities/hospitals-search?_token=9ycyuChNtWK5HxHTOLB9wECGfkZaI8mK2LjPn8tB&state_id=105&lga_id=&ward_id=0&facility_level_id=0&ownership_id=0&operational_status_id=1&registration_status_id=0&license_status_id=0&geo_codes=0&service_type=0&service_category_id=0&facility_name=&entries_per_page=500'\n",
    "bauchi_response_1 = requests.get(bauchi_url_1)\n",
    "\n",
    "if bauchi_response_1.status_code == 200:\n",
    "    bauchi_soup_1 = BeautifulSoup(bauchi_response_1.text, 'html.parser')\n",
    "    bauchi_buttons_1 = bauchi_soup_1.find_all('button', class_='btn btn-success btn-sm')\n",
    "\n",
    "    \n",
    "    for bauchi_button_1 in bauchi_buttons_1:\n",
    "        bauchi_data_attributes_1 = {key.replace('data-', ''): value for key, value in bauchi_button_1.attrs.items() if key != 'class'}\n",
    "    \n",
    "        extracted_data.append(bauchi_data_attributes_1)\n",
    "    print('Done!')\n",
    "\n",
    "else:\n",
    "    print(f\"Failed to retrieve the webpage. Status code: {bauchi_response_1.status_code}\")"
   ]
  },
  {
   "cell_type": "code",
   "execution_count": 13,
   "id": "d70d4840",
   "metadata": {},
   "outputs": [
    {
     "name": "stdout",
     "output_type": "stream",
     "text": [
      "Done!\n"
     ]
    }
   ],
   "source": [
    "bauchi_url_2 = 'https://hfr.health.gov.ng/facilities/hospitals-search?_token=9ycyuChNtWK5HxHTOLB9wECGfkZaI8mK2LjPn8tB&state_id=105&ward_id=0&facility_level_id=0&ownership_id=0&operational_status_id=1&registration_status_id=0&license_status_id=0&geo_codes=0&service_type=0&service_category_id=0&entries_per_page=500&page=2'\n",
    "bauchi_response_2 = requests.get(bauchi_url_2)\n",
    "\n",
    "if bauchi_response_2.status_code == 200:\n",
    "    bauchi_soup_2 = BeautifulSoup(bauchi_response_2.text, 'html.parser')\n",
    "    bauchi_buttons_2 = bauchi_soup_2.find_all('button', class_='btn btn-success btn-sm')\n",
    "\n",
    "    \n",
    "    for bauchi_button_2 in bauchi_buttons_2:\n",
    "        bauchi_data_attributes_2 = {key.replace('data-', ''): value for key, value in bauchi_button_2.attrs.items() if key != 'class'}\n",
    "    \n",
    "        extracted_data.append(bauchi_data_attributes_2)\n",
    "    print('Done!')\n",
    "\n",
    "else:\n",
    "    print(f\"Failed to retrieve the webpage. Status code: {bauchi_response_2.status_code}\")"
   ]
  },
  {
   "cell_type": "code",
   "execution_count": 14,
   "id": "8cf93a3d",
   "metadata": {},
   "outputs": [
    {
     "name": "stdout",
     "output_type": "stream",
     "text": [
      "Done!\n"
     ]
    }
   ],
   "source": [
    "bauchi_url_3 = 'https://hfr.health.gov.ng/facilities/hospitals-search?_token=9ycyuChNtWK5HxHTOLB9wECGfkZaI8mK2LjPn8tB&state_id=105&ward_id=0&facility_level_id=0&ownership_id=0&operational_status_id=1&registration_status_id=0&license_status_id=0&geo_codes=0&service_type=0&service_category_id=0&entries_per_page=500&page=3'\n",
    "bauchi_response_3 = requests.get(bauchi_url_3)\n",
    "\n",
    "if bauchi_response_3.status_code == 200:\n",
    "    bauchi_soup_3 = BeautifulSoup(bauchi_response_3.text, 'html.parser')\n",
    "    bauchi_buttons_3 = bauchi_soup_3.find_all('button', class_='btn btn-success btn-sm')\n",
    "\n",
    "    \n",
    "    for bauchi_button_3 in bauchi_buttons_3:\n",
    "        bauchi_data_attributes_3 = {key.replace('data-', ''): value for key, value in bauchi_button_3.attrs.items() if key != 'class'}\n",
    "    \n",
    "        extracted_data.append(bauchi_data_attributes_3)\n",
    "    print('Done!')\n",
    "\n",
    "else:\n",
    "    print(f\"Failed to retrieve the webpage. Status code: {bauchi_response_3.status_code}\")"
   ]
  },
  {
   "cell_type": "code",
   "execution_count": 15,
   "id": "8603c18e",
   "metadata": {},
   "outputs": [
    {
     "name": "stdout",
     "output_type": "stream",
     "text": [
      "Done!\n"
     ]
    }
   ],
   "source": [
    "# For Borno State\n",
    "\n",
    "borno_url = 'https://hfr.health.gov.ng/facilities/hospitals-search?_token=9ycyuChNtWK5HxHTOLB9wECGfkZaI8mK2LjPn8tB&state_id=108&lga_id=&ward_id=0&facility_level_id=0&ownership_id=0&operational_status_id=1&registration_status_id=0&license_status_id=0&geo_codes=0&service_type=0&service_category_id=0&facility_name=&entries_per_page=500'\n",
    "borno_response = requests.get(borno_url)\n",
    "\n",
    "if borno_response.status_code == 200:\n",
    "    borno_soup = BeautifulSoup(borno_response.text, 'html.parser')\n",
    "    borno_buttons = borno_soup.find_all('button', class_='btn btn-success btn-sm')\n",
    "\n",
    "    \n",
    "    for borno_button in borno_buttons:\n",
    "        borno_data_attributes = {key.replace('data-', ''): value for key, value in borno_button.attrs.items() if key != 'class'}\n",
    "    \n",
    "        extracted_data.append(borno_data_attributes)\n",
    "    print('Done!')\n",
    "\n",
    "else:\n",
    "    print(f\"Failed to retrieve the webpage. Status code: {borno_response.status_code}\")"
   ]
  },
  {
   "cell_type": "code",
   "execution_count": 16,
   "id": "c9d7a4f5",
   "metadata": {},
   "outputs": [
    {
     "name": "stdout",
     "output_type": "stream",
     "text": [
      "Done!\n"
     ]
    }
   ],
   "source": [
    "# For Cross River State\n",
    "\n",
    "cross_river_url_1 = 'https://hfr.health.gov.ng/facilities/hospitals-search?_token=9ycyuChNtWK5HxHTOLB9wECGfkZaI8mK2LjPn8tB&state_id=109&lga_id=&ward_id=0&facility_level_id=0&ownership_id=0&operational_status_id=1&registration_status_id=0&license_status_id=0&geo_codes=0&service_type=0&service_category_id=0&facility_name=&entries_per_page=500'\n",
    "cross_river_response_1 = requests.get(cross_river_url_1)\n",
    "\n",
    "if cross_river_response_1.status_code == 200:\n",
    "    cross_river_soup_1 = BeautifulSoup(cross_river_response_1.text, 'html.parser')\n",
    "    cross_river_buttons_1 = cross_river_soup_1.find_all('button', class_='btn btn-success btn-sm')\n",
    "\n",
    "    \n",
    "    for cross_river_button_1 in cross_river_buttons_1:\n",
    "        cross_river_data_attributes_1 = {key.replace('data-', ''): value for key, value in cross_river_button_1.attrs.items() if key != 'class'}\n",
    "    \n",
    "        extracted_data.append(cross_river_data_attributes_1)\n",
    "    print('Done!')\n",
    "\n",
    "else:\n",
    "    print(f\"Failed to retrieve the webpage. Status code: {cross_river_response_1.status_code}\")"
   ]
  },
  {
   "cell_type": "code",
   "execution_count": 17,
   "id": "db64d4f8",
   "metadata": {},
   "outputs": [
    {
     "name": "stdout",
     "output_type": "stream",
     "text": [
      "Done!\n"
     ]
    }
   ],
   "source": [
    "cross_river_url_2 = 'https://hfr.health.gov.ng/facilities/hospitals-search?_token=9ycyuChNtWK5HxHTOLB9wECGfkZaI8mK2LjPn8tB&state_id=109&ward_id=0&facility_level_id=0&ownership_id=0&operational_status_id=1&registration_status_id=0&license_status_id=0&geo_codes=0&service_type=0&service_category_id=0&entries_per_page=500&page=2'\n",
    "cross_river_response_2 = requests.get(cross_river_url_2)\n",
    "\n",
    "if cross_river_response_2.status_code == 200:\n",
    "    cross_river_soup_2 = BeautifulSoup(cross_river_response_2.text, 'html.parser')\n",
    "    cross_river_buttons_2 = cross_river_soup_2.find_all('button', class_='btn btn-success btn-sm')\n",
    "\n",
    "    \n",
    "    for cross_river_button_2 in cross_river_buttons_2:\n",
    "        cross_river_data_attributes_2 = {key.replace('data-', ''): value for key, value in cross_river_button_2.attrs.items() if key != 'class'}\n",
    "    \n",
    "        extracted_data.append(cross_river_data_attributes_2)\n",
    "    print('Done!')\n",
    "\n",
    "else:\n",
    "    print(f\"Failed to retrieve the webpage. Status code: {cross_river_response_2.status_code}\")"
   ]
  },
  {
   "cell_type": "code",
   "execution_count": 18,
   "id": "046c1274",
   "metadata": {},
   "outputs": [
    {
     "name": "stdout",
     "output_type": "stream",
     "text": [
      "Done!\n"
     ]
    }
   ],
   "source": [
    "cross_river_url_3 = 'https://hfr.health.gov.ng/facilities/hospitals-search?_token=9ycyuChNtWK5HxHTOLB9wECGfkZaI8mK2LjPn8tB&state_id=109&ward_id=0&facility_level_id=0&ownership_id=0&operational_status_id=1&registration_status_id=0&license_status_id=0&geo_codes=0&service_type=0&service_category_id=0&entries_per_page=500&page=3'\n",
    "cross_river_response_3 = requests.get(cross_river_url_3)\n",
    "\n",
    "if cross_river_response_3.status_code == 200:\n",
    "    cross_river_soup_3 = BeautifulSoup(cross_river_response_3.text, 'html.parser')\n",
    "    cross_river_buttons_3 = cross_river_soup_3.find_all('button', class_='btn btn-success btn-sm')\n",
    "\n",
    "    \n",
    "    for cross_river_button_3 in cross_river_buttons_3:\n",
    "        cross_river_data_attributes_3 = {key.replace('data-', ''): value for key, value in cross_river_button_3.attrs.items() if key != 'class'}\n",
    "    \n",
    "        extracted_data.append(cross_river_data_attributes_3)\n",
    "    print('Done!')\n",
    "\n",
    "else:\n",
    "    print(f\"Failed to retrieve the webpage. Status code: {cross_river_response_3.status_code}\")"
   ]
  },
  {
   "cell_type": "code",
   "execution_count": 19,
   "id": "c378694e",
   "metadata": {},
   "outputs": [
    {
     "name": "stdout",
     "output_type": "stream",
     "text": [
      "Done!\n"
     ]
    }
   ],
   "source": [
    "# For Delta State\n",
    "\n",
    "delta_url_1 = 'https://hfr.health.gov.ng/facilities/hospitals-search?_token=9ycyuChNtWK5HxHTOLB9wECGfkZaI8mK2LjPn8tB&state_id=110&lga_id=&ward_id=0&facility_level_id=0&ownership_id=0&operational_status_id=1&registration_status_id=0&license_status_id=0&geo_codes=0&service_type=0&service_category_id=0&facility_name=&entries_per_page=500'\n",
    "delta_response_1 = requests.get(delta_url_1)\n",
    "\n",
    "if delta_response_1.status_code == 200:\n",
    "    delta_soup_1 = BeautifulSoup(delta_response_1.text, 'html.parser')\n",
    "    delta_buttons_1 = delta_soup_1.find_all('button', class_='btn btn-success btn-sm')\n",
    "\n",
    "    \n",
    "    for delta_button_1 in delta_buttons_1:\n",
    "        delta_data_attributes_1 = {key.replace('data-', ''): value for key, value in delta_button_1.attrs.items() if key != 'class'}\n",
    "    \n",
    "        extracted_data.append(delta_data_attributes_1)\n",
    "    print('Done!')\n",
    "\n",
    "else:\n",
    "    print(f\"Failed to retrieve the webpage. Status code: {delta_response_1.status_code}\")"
   ]
  },
  {
   "cell_type": "code",
   "execution_count": 20,
   "id": "9a2c338c",
   "metadata": {},
   "outputs": [
    {
     "name": "stdout",
     "output_type": "stream",
     "text": [
      "Done!\n"
     ]
    }
   ],
   "source": [
    "delta_url_2 = 'https://hfr.health.gov.ng/facilities/hospitals-search?_token=9ycyuChNtWK5HxHTOLB9wECGfkZaI8mK2LjPn8tB&state_id=110&ward_id=0&facility_level_id=0&ownership_id=0&operational_status_id=1&registration_status_id=0&license_status_id=0&geo_codes=0&service_type=0&service_category_id=0&entries_per_page=500&page=2'\n",
    "delta_response_2 = requests.get(delta_url_2)\n",
    "\n",
    "if delta_response_2.status_code == 200:\n",
    "    delta_soup_2 = BeautifulSoup(delta_response_2.text, 'html.parser')\n",
    "    delta_buttons_2 = delta_soup_2.find_all('button', class_='btn btn-success btn-sm')\n",
    "\n",
    "    \n",
    "    for delta_button_2 in delta_buttons_2:\n",
    "        delta_data_attributes_2 = {key.replace('data-', ''): value for key, value in delta_button_2.attrs.items() if key != 'class'}\n",
    "    \n",
    "        extracted_data.append(delta_data_attributes_2)\n",
    "    print('Done!')\n",
    "\n",
    "else:\n",
    "    print(f\"Failed to retrieve the webpage. Status code: {delta_response_2.status_code}\")"
   ]
  },
  {
   "cell_type": "code",
   "execution_count": 21,
   "id": "448c6ff8",
   "metadata": {},
   "outputs": [
    {
     "name": "stdout",
     "output_type": "stream",
     "text": [
      "Done!\n"
     ]
    }
   ],
   "source": [
    "# For Ebonyi State\n",
    "\n",
    "ebonyi_url_1 = 'https://hfr.health.gov.ng/facilities/hospitals-search?_token=9ycyuChNtWK5HxHTOLB9wECGfkZaI8mK2LjPn8tB&state_id=111&lga_id=&ward_id=0&facility_level_id=0&ownership_id=0&operational_status_id=1&registration_status_id=0&license_status_id=0&geo_codes=0&service_type=0&service_category_id=0&facility_name=&entries_per_page=500'\n",
    "ebonyi_response_1 = requests.get(ebonyi_url_1)\n",
    "\n",
    "if ebonyi_response_1.status_code == 200:\n",
    "    ebonyi_soup_1 = BeautifulSoup(ebonyi_response_1.text, 'html.parser')\n",
    "    ebonyi_buttons_1 = ebonyi_soup_1.find_all('button', class_='btn btn-success btn-sm')\n",
    "\n",
    "    \n",
    "    for ebonyi_button_1 in ebonyi_buttons_1:\n",
    "        ebonyi_data_attributes_1 = {key.replace('data-', ''): value for key, value in ebonyi_button_1.attrs.items() if key != 'class'}\n",
    "    \n",
    "        extracted_data.append(ebonyi_data_attributes_1)\n",
    "    print('Done!')\n",
    "\n",
    "else:\n",
    "    print(f\"Failed to retrieve the webpage. Status code: {ebonyi_response_1.status_code}\")"
   ]
  },
  {
   "cell_type": "code",
   "execution_count": 22,
   "id": "c716660a",
   "metadata": {},
   "outputs": [
    {
     "name": "stdout",
     "output_type": "stream",
     "text": [
      "Done!\n"
     ]
    }
   ],
   "source": [
    "ebonyi_url_2 = 'https://hfr.health.gov.ng/facilities/hospitals-search?_token=9ycyuChNtWK5HxHTOLB9wECGfkZaI8mK2LjPn8tB&state_id=111&ward_id=0&facility_level_id=0&ownership_id=0&operational_status_id=1&registration_status_id=0&license_status_id=0&geo_codes=0&service_type=0&service_category_id=0&entries_per_page=500&page=2'\n",
    "ebonyi_response_2 = requests.get(ebonyi_url_2)\n",
    "\n",
    "if ebonyi_response_2.status_code == 200:\n",
    "    ebonyi_soup_2 = BeautifulSoup(ebonyi_response_2.text, 'html.parser')\n",
    "    ebonyi_buttons_2 = ebonyi_soup_2.find_all('button', class_='btn btn-success btn-sm')\n",
    "\n",
    "    \n",
    "    for ebonyi_button_2 in ebonyi_buttons_2:\n",
    "        ebonyi_data_attributes_2 = {key.replace('data-', ''): value for key, value in ebonyi_button_2.attrs.items() if key != 'class'}\n",
    "    \n",
    "        extracted_data.append(ebonyi_data_attributes_2)\n",
    "    print('Done!')\n",
    "\n",
    "else:\n",
    "    print(f\"Failed to retrieve the webpage. Status code: {ebonyi_response_2.status_code}\")"
   ]
  },
  {
   "cell_type": "code",
   "execution_count": 23,
   "id": "d39eeea1",
   "metadata": {},
   "outputs": [
    {
     "name": "stdout",
     "output_type": "stream",
     "text": [
      "Done!\n"
     ]
    }
   ],
   "source": [
    "# For Edo State\n",
    "\n",
    "edo_url_1 = 'https://hfr.health.gov.ng/facilities/hospitals-search?_token=9ycyuChNtWK5HxHTOLB9wECGfkZaI8mK2LjPn8tB&state_id=112&lga_id=&ward_id=0&facility_level_id=0&ownership_id=0&operational_status_id=1&registration_status_id=0&license_status_id=0&geo_codes=0&service_type=0&service_category_id=0&facility_name=&entries_per_page=500'\n",
    "edo_response_1 = requests.get(edo_url_1)\n",
    "\n",
    "if edo_response_1.status_code == 200:\n",
    "    edo_soup_1 = BeautifulSoup(edo_response_1.text, 'html.parser')\n",
    "    edo_buttons_1 = edo_soup_1.find_all('button', class_='btn btn-success btn-sm')\n",
    "\n",
    "    \n",
    "    for edo_button_1 in edo_buttons_1:\n",
    "        edo_data_attributes_1 = {key.replace('data-', ''): value for key, value in edo_button_1.attrs.items() if key != 'class'}\n",
    "    \n",
    "        extracted_data.append(edo_data_attributes_1)\n",
    "    print('Done!')\n",
    "\n",
    "else:\n",
    "    print(f\"Failed to retrieve the webpage. Status code: {edo_response_1.status_code}\")"
   ]
  },
  {
   "cell_type": "code",
   "execution_count": 24,
   "id": "6f31a4f4",
   "metadata": {},
   "outputs": [
    {
     "name": "stdout",
     "output_type": "stream",
     "text": [
      "Done!\n"
     ]
    }
   ],
   "source": [
    "edo_url_2 = 'https://hfr.health.gov.ng/facilities/hospitals-search?_token=9ycyuChNtWK5HxHTOLB9wECGfkZaI8mK2LjPn8tB&state_id=112&ward_id=0&facility_level_id=0&ownership_id=0&operational_status_id=1&registration_status_id=0&license_status_id=0&geo_codes=0&service_type=0&service_category_id=0&entries_per_page=500&page=2'\n",
    "edo_response_2 = requests.get(edo_url_2)\n",
    "\n",
    "if edo_response_2.status_code == 200:\n",
    "    edo_soup_2 = BeautifulSoup(edo_response_2.text, 'html.parser')\n",
    "    edo_buttons_2 = edo_soup_2.find_all('button', class_='btn btn-success btn-sm')\n",
    "\n",
    "    \n",
    "    for edo_button_2 in edo_buttons_2:\n",
    "        edo_data_attributes_2 = {key.replace('data-', ''): value for key, value in edo_button_2.attrs.items() if key != 'class'}\n",
    "    \n",
    "        extracted_data.append(edo_data_attributes_2)\n",
    "    print('Done!')\n",
    "\n",
    "else:\n",
    "    print(f\"Failed to retrieve the webpage. Status code: {edo_response_2.status_code}\")"
   ]
  },
  {
   "cell_type": "code",
   "execution_count": 25,
   "id": "411c0d9d",
   "metadata": {},
   "outputs": [
    {
     "name": "stdout",
     "output_type": "stream",
     "text": [
      "Done!\n"
     ]
    }
   ],
   "source": [
    "edo_url_3 = 'https://hfr.health.gov.ng/facilities/hospitals-search?_token=9ycyuChNtWK5HxHTOLB9wECGfkZaI8mK2LjPn8tB&state_id=112&ward_id=0&facility_level_id=0&ownership_id=0&operational_status_id=1&registration_status_id=0&license_status_id=0&geo_codes=0&service_type=0&service_category_id=0&entries_per_page=500&page=3'\n",
    "edo_response_3 = requests.get(edo_url_3)\n",
    "\n",
    "if edo_response_3.status_code == 200:\n",
    "    edo_soup_3 = BeautifulSoup(edo_response_3.text, 'html.parser')\n",
    "    edo_buttons_3 = edo_soup_3.find_all('button', class_='btn btn-success btn-sm')\n",
    "\n",
    "    \n",
    "    for edo_button_3 in edo_buttons_3:\n",
    "        edo_data_attributes_3 = {key.replace('data-', ''): value for key, value in edo_button_3.attrs.items() if key != 'class'}\n",
    "    \n",
    "        extracted_data.append(edo_data_attributes_3)\n",
    "    print('Done!')\n",
    "\n",
    "else:\n",
    "    print(f\"Failed to retrieve the webpage. Status code: {edo_response_3.status_code}\")"
   ]
  },
  {
   "cell_type": "code",
   "execution_count": 26,
   "id": "33ed12f0",
   "metadata": {},
   "outputs": [
    {
     "name": "stdout",
     "output_type": "stream",
     "text": [
      "Done!\n"
     ]
    }
   ],
   "source": [
    "# For Ekiti State\n",
    "\n",
    "ekiti_url_1 = 'https://hfr.health.gov.ng/facilities/hospitals-search?_token=9ycyuChNtWK5HxHTOLB9wECGfkZaI8mK2LjPn8tB&state_id=113&lga_id=&ward_id=0&facility_level_id=0&ownership_id=0&operational_status_id=1&registration_status_id=0&license_status_id=0&geo_codes=0&service_type=0&service_category_id=0&facility_name=&entries_per_page=500'\n",
    "ekiti_response_1 = requests.get(ekiti_url_1)\n",
    "\n",
    "if ekiti_response_1.status_code == 200:\n",
    "    ekiti_soup_1 = BeautifulSoup(ekiti_response_1.text, 'html.parser')\n",
    "    ekiti_buttons_1 = ekiti_soup_1.find_all('button', class_='btn btn-success btn-sm')\n",
    "\n",
    "    \n",
    "    for ekiti_button_1 in ekiti_buttons_1:\n",
    "        ekiti_data_attributes_1 = {key.replace('data-', ''): value for key, value in ekiti_button_1.attrs.items() if key != 'class'}\n",
    "    \n",
    "        extracted_data.append(ekiti_data_attributes_1)\n",
    "    print('Done!')\n",
    "\n",
    "else:\n",
    "    print(f\"Failed to retrieve the webpage. Status code: {ekiti_response_1.status_code}\")"
   ]
  },
  {
   "cell_type": "code",
   "execution_count": 27,
   "id": "0116a452",
   "metadata": {},
   "outputs": [
    {
     "name": "stdout",
     "output_type": "stream",
     "text": [
      "Done!\n"
     ]
    }
   ],
   "source": [
    "ekiti_url_2 = 'https://hfr.health.gov.ng/facilities/hospitals-search?_token=9ycyuChNtWK5HxHTOLB9wECGfkZaI8mK2LjPn8tB&state_id=113&ward_id=0&facility_level_id=0&ownership_id=0&operational_status_id=1&registration_status_id=0&license_status_id=0&geo_codes=0&service_type=0&service_category_id=0&entries_per_page=500&page=2'\n",
    "ekiti_response_2 = requests.get(ekiti_url_2)\n",
    "\n",
    "if ekiti_response_2.status_code == 200:\n",
    "    ekiti_soup_2 = BeautifulSoup(ekiti_response_2.text, 'html.parser')\n",
    "    ekiti_buttons_2 = ekiti_soup_2.find_all('button', class_='btn btn-success btn-sm')\n",
    "\n",
    "    \n",
    "    for ekiti_button_2 in ekiti_buttons_2:\n",
    "        ekiti_data_attributes_2 = {key.replace('data-', ''): value for key, value in ekiti_button_2.attrs.items() if key != 'class'}\n",
    "    \n",
    "        extracted_data.append(ekiti_data_attributes_2)\n",
    "    print('Done!')\n",
    "\n",
    "else:\n",
    "    print(f\"Failed to retrieve the webpage. Status code: {ekiti_response_2.status_code}\")"
   ]
  },
  {
   "cell_type": "code",
   "execution_count": 28,
   "id": "10ce3d82",
   "metadata": {},
   "outputs": [
    {
     "name": "stdout",
     "output_type": "stream",
     "text": [
      "Done!\n"
     ]
    }
   ],
   "source": [
    "# For Enugu State\n",
    "\n",
    "enugu_url_1 = 'https://hfr.health.gov.ng/facilities/hospitals-search?_token=9ycyuChNtWK5HxHTOLB9wECGfkZaI8mK2LjPn8tB&state_id=114&lga_id=&ward_id=0&facility_level_id=0&ownership_id=0&operational_status_id=1&registration_status_id=0&license_status_id=0&geo_codes=0&service_type=0&service_category_id=0&facility_name=&entries_per_page=500'\n",
    "enugu_response_1 = requests.get(enugu_url_1)\n",
    "\n",
    "if enugu_response_1.status_code == 200:\n",
    "    enugu_soup_1 = BeautifulSoup(enugu_response_1.text, 'html.parser')\n",
    "    enugu_buttons_1 = enugu_soup_1.find_all('button', class_='btn btn-success btn-sm')\n",
    "\n",
    "    \n",
    "    for enugu_button_1 in enugu_buttons_1:\n",
    "        enugu_data_attributes_1 = {key.replace('data-', ''): value for key, value in enugu_button_1.attrs.items() if key != 'class'}\n",
    "    \n",
    "        extracted_data.append(enugu_data_attributes_1)\n",
    "    print('Done!')\n",
    "\n",
    "else:\n",
    "    print(f\"Failed to retrieve the webpage. Status code: {enugu_response_1.status_code}\")"
   ]
  },
  {
   "cell_type": "code",
   "execution_count": 29,
   "id": "11bc7726",
   "metadata": {},
   "outputs": [
    {
     "name": "stdout",
     "output_type": "stream",
     "text": [
      "Done!\n"
     ]
    }
   ],
   "source": [
    "enugu_url_2 = 'https://hfr.health.gov.ng/facilities/hospitals-search?_token=9ycyuChNtWK5HxHTOLB9wECGfkZaI8mK2LjPn8tB&state_id=114&ward_id=0&facility_level_id=0&ownership_id=0&operational_status_id=1&registration_status_id=0&license_status_id=0&geo_codes=0&service_type=0&service_category_id=0&entries_per_page=500&page=2'\n",
    "enugu_response_2 = requests.get(enugu_url_2)\n",
    "\n",
    "if enugu_response_2.status_code == 200:\n",
    "    enugu_soup_2 = BeautifulSoup(enugu_response_2.text, 'html.parser')\n",
    "    enugu_buttons_2 = enugu_soup_2.find_all('button', class_='btn btn-success btn-sm')\n",
    "\n",
    "    \n",
    "    for enugu_button_2 in enugu_buttons_2:\n",
    "        enugu_data_attributes_2 = {key.replace('data-', ''): value for key, value in enugu_button_2.attrs.items() if key != 'class'}\n",
    "    \n",
    "        extracted_data.append(enugu_data_attributes_2)\n",
    "    print('Done!')\n",
    "\n",
    "else:\n",
    "    print(f\"Failed to retrieve the webpage. Status code: {enugu_response_2.status_code}\")"
   ]
  },
  {
   "cell_type": "code",
   "execution_count": 30,
   "id": "cb9dd21a",
   "metadata": {},
   "outputs": [
    {
     "name": "stdout",
     "output_type": "stream",
     "text": [
      "Done!\n"
     ]
    }
   ],
   "source": [
    "enugu_url_3 = 'https://hfr.health.gov.ng/facilities/hospitals-search?_token=9ycyuChNtWK5HxHTOLB9wECGfkZaI8mK2LjPn8tB&state_id=114&ward_id=0&facility_level_id=0&ownership_id=0&operational_status_id=1&registration_status_id=0&license_status_id=0&geo_codes=0&service_type=0&service_category_id=0&entries_per_page=500&page=3'\n",
    "enugu_response_3 = requests.get(enugu_url_3)\n",
    "\n",
    "if enugu_response_3.status_code == 200:\n",
    "    enugu_soup_3 = BeautifulSoup(enugu_response_3.text, 'html.parser')\n",
    "    enugu_buttons_3 = enugu_soup_3.find_all('button', class_='btn btn-success btn-sm')\n",
    "\n",
    "    \n",
    "    for enugu_button_3 in enugu_buttons_3:\n",
    "        enugu_data_attributes_3 = {key.replace('data-', ''): value for key, value in enugu_button_3.attrs.items() if key != 'class'}\n",
    "    \n",
    "        extracted_data.append(enugu_data_attributes_3)\n",
    "    print('Done!')\n",
    "\n",
    "else:\n",
    "    print(f\"Failed to retrieve the webpage. Status code: {enugu_response_3.status_code}\")"
   ]
  },
  {
   "cell_type": "code",
   "execution_count": 31,
   "id": "dab9b003",
   "metadata": {},
   "outputs": [
    {
     "name": "stdout",
     "output_type": "stream",
     "text": [
      "Done!\n"
     ]
    }
   ],
   "source": [
    "# For FCT\n",
    "\n",
    "fct_url_1 = 'https://hfr.health.gov.ng/facilities/hospitals-search?_token=9ycyuChNtWK5HxHTOLB9wECGfkZaI8mK2LjPn8tB&state_id=137&lga_id=&ward_id=0&facility_level_id=0&ownership_id=0&operational_status_id=1&registration_status_id=0&license_status_id=0&geo_codes=0&service_type=0&service_category_id=0&facility_name=&entries_per_page=500'\n",
    "fct_response_1 = requests.get(fct_url_1)\n",
    "\n",
    "if fct_response_1.status_code == 200:\n",
    "    fct_soup_1 = BeautifulSoup(fct_response_1.text, 'html.parser')\n",
    "    fct_buttons_1 = fct_soup_1.find_all('button', class_='btn btn-success btn-sm')\n",
    "\n",
    "    \n",
    "    for fct_button_1 in fct_buttons_1:\n",
    "        fct_data_attributes_1 = {key.replace('data-', ''): value for key, value in fct_button_1.attrs.items() if key != 'class'}\n",
    "    \n",
    "        extracted_data.append(fct_data_attributes_1)\n",
    "    print('Done!')\n",
    "\n",
    "else:\n",
    "    print(f\"Failed to retrieve the webpage. Status code: {fct_response_1.status_code}\")"
   ]
  },
  {
   "cell_type": "code",
   "execution_count": 32,
   "id": "70dba256",
   "metadata": {},
   "outputs": [
    {
     "name": "stdout",
     "output_type": "stream",
     "text": [
      "Done!\n"
     ]
    }
   ],
   "source": [
    "fct_url_2 = 'https://hfr.health.gov.ng/facilities/hospitals-search?_token=9ycyuChNtWK5HxHTOLB9wECGfkZaI8mK2LjPn8tB&state_id=137&ward_id=0&facility_level_id=0&ownership_id=0&operational_status_id=1&registration_status_id=0&license_status_id=0&geo_codes=0&service_type=0&service_category_id=0&entries_per_page=500&page=2'\n",
    "fct_response_2 = requests.get(fct_url_2)\n",
    "\n",
    "if fct_response_2.status_code == 200:\n",
    "    fct_soup_2 = BeautifulSoup(fct_response_2.text, 'html.parser')\n",
    "    fct_buttons_2 = fct_soup_2.find_all('button', class_='btn btn-success btn-sm')\n",
    "\n",
    "    \n",
    "    for fct_button_2 in fct_buttons_2:\n",
    "        fct_data_attributes_2 = {key.replace('data-', ''): value for key, value in fct_button_2.attrs.items() if key != 'class'}\n",
    "    \n",
    "        extracted_data.append(fct_data_attributes_2)\n",
    "    print('Done!')\n",
    "\n",
    "else:\n",
    "    print(f\"Failed to retrieve the webpage. Status code: {fct_response_2.status_code}\")"
   ]
  },
  {
   "cell_type": "code",
   "execution_count": 33,
   "id": "ac3e46a5",
   "metadata": {},
   "outputs": [
    {
     "name": "stdout",
     "output_type": "stream",
     "text": [
      "Done!\n"
     ]
    }
   ],
   "source": [
    "# For Gombe State\n",
    "\n",
    "gombe_url_1 = 'https://hfr.health.gov.ng/facilities/hospitals-search?_token=9ycyuChNtWK5HxHTOLB9wECGfkZaI8mK2LjPn8tB&state_id=115&lga_id=&ward_id=0&facility_level_id=0&ownership_id=0&operational_status_id=1&registration_status_id=0&license_status_id=0&geo_codes=0&service_type=0&service_category_id=0&facility_name=&entries_per_page=500'\n",
    "gombe_response_1 = requests.get(gombe_url_1)\n",
    "\n",
    "if gombe_response_1.status_code == 200:\n",
    "    gombe_soup_1 = BeautifulSoup(gombe_response_1.text, 'html.parser')\n",
    "    gombe_buttons_1 = gombe_soup_1.find_all('button', class_='btn btn-success btn-sm')\n",
    "\n",
    "    \n",
    "    for gombe_button_1 in gombe_buttons_1:\n",
    "        gombe_data_attributes_1 = {key.replace('data-', ''): value for key, value in gombe_button_1.attrs.items() if key != 'class'}\n",
    "    \n",
    "        extracted_data.append(gombe_data_attributes_1)\n",
    "    print('Done!')\n",
    "\n",
    "else:\n",
    "    print(f\"Failed to retrieve the webpage. Status code: {gombe_response_1.status_code}\")"
   ]
  },
  {
   "cell_type": "code",
   "execution_count": 34,
   "id": "0736e10c",
   "metadata": {},
   "outputs": [
    {
     "name": "stdout",
     "output_type": "stream",
     "text": [
      "Done!\n"
     ]
    }
   ],
   "source": [
    "gombe_url_2 = 'https://hfr.health.gov.ng/facilities/hospitals-search?_token=9ycyuChNtWK5HxHTOLB9wECGfkZaI8mK2LjPn8tB&state_id=115&ward_id=0&facility_level_id=0&ownership_id=0&operational_status_id=1&registration_status_id=0&license_status_id=0&geo_codes=0&service_type=0&service_category_id=0&entries_per_page=500&page=2'\n",
    "gombe_response_2 = requests.get(gombe_url_2)\n",
    "\n",
    "if gombe_response_2.status_code == 200:\n",
    "    gombe_soup_2 = BeautifulSoup(gombe_response_2.text, 'html.parser')\n",
    "    gombe_buttons_2 = gombe_soup_2.find_all('button', class_='btn btn-success btn-sm')\n",
    "\n",
    "    \n",
    "    for gombe_button_2 in gombe_buttons_2:\n",
    "        gombe_data_attributes_2 = {key.replace('data-', ''): value for key, value in gombe_button_2.attrs.items() if key != 'class'}\n",
    "    \n",
    "        extracted_data.append(gombe_data_attributes_2)\n",
    "    print('Done!')\n",
    "\n",
    "else:\n",
    "    print(f\"Failed to retrieve the webpage. Status code: {gombe_response_2.status_code}\")"
   ]
  },
  {
   "cell_type": "code",
   "execution_count": 35,
   "id": "e3f9e170",
   "metadata": {},
   "outputs": [
    {
     "name": "stdout",
     "output_type": "stream",
     "text": [
      "Done!\n"
     ]
    }
   ],
   "source": [
    "# For Imo State\n",
    "\n",
    "imo_url_1 = 'https://hfr.health.gov.ng/facilities/hospitals-search?_token=9ycyuChNtWK5HxHTOLB9wECGfkZaI8mK2LjPn8tB&state_id=116&lga_id=&ward_id=0&facility_level_id=0&ownership_id=0&operational_status_id=1&registration_status_id=0&license_status_id=0&geo_codes=0&service_type=0&service_category_id=0&facility_name=&entries_per_page=500'\n",
    "imo_response_1 = requests.get(imo_url_1)\n",
    "\n",
    "if imo_response_1.status_code == 200:\n",
    "    imo_soup_1 = BeautifulSoup(imo_response_1.text, 'html.parser')\n",
    "    imo_buttons_1 = imo_soup_1.find_all('button', class_='btn btn-success btn-sm')\n",
    "\n",
    "    \n",
    "    for imo_button_1 in imo_buttons_1:\n",
    "        imo_data_attributes_1 = {key.replace('data-', ''): value for key, value in imo_button_1.attrs.items() if key != 'class'}\n",
    "    \n",
    "        extracted_data.append(imo_data_attributes_1)\n",
    "    print('Done!')\n",
    "\n",
    "else:\n",
    "    print(f\"Failed to retrieve the webpage. Status code: {imo_response_1.status_code}\")"
   ]
  },
  {
   "cell_type": "code",
   "execution_count": 36,
   "id": "20a09859",
   "metadata": {},
   "outputs": [
    {
     "name": "stdout",
     "output_type": "stream",
     "text": [
      "Done!\n"
     ]
    }
   ],
   "source": [
    "imo_url_2 = 'https://hfr.health.gov.ng/facilities/hospitals-search?_token=9ycyuChNtWK5HxHTOLB9wECGfkZaI8mK2LjPn8tB&state_id=116&ward_id=0&facility_level_id=0&ownership_id=0&operational_status_id=1&registration_status_id=0&license_status_id=0&geo_codes=0&service_type=0&service_category_id=0&entries_per_page=500&page=2'\n",
    "imo_response_2 = requests.get(imo_url_2)\n",
    "\n",
    "if imo_response_2.status_code == 200:\n",
    "    imo_soup_2 = BeautifulSoup(imo_response_2.text, 'html.parser')\n",
    "    imo_buttons_2 = imo_soup_2.find_all('button', class_='btn btn-success btn-sm')\n",
    "\n",
    "    \n",
    "    for imo_button_2 in imo_buttons_2:\n",
    "        imo_data_attributes_2 = {key.replace('data-', ''): value for key, value in imo_button_2.attrs.items() if key != 'class'}\n",
    "    \n",
    "        extracted_data.append(imo_data_attributes_2)\n",
    "    print('Done!')\n",
    "\n",
    "else:\n",
    "    print(f\"Failed to retrieve the webpage. Status code: {imo_response_2.status_code}\")"
   ]
  },
  {
   "cell_type": "code",
   "execution_count": 37,
   "id": "ffc673bc",
   "metadata": {},
   "outputs": [
    {
     "name": "stdout",
     "output_type": "stream",
     "text": [
      "Done!\n"
     ]
    }
   ],
   "source": [
    "imo_url_3 = 'https://hfr.health.gov.ng/facilities/hospitals-search?_token=9ycyuChNtWK5HxHTOLB9wECGfkZaI8mK2LjPn8tB&state_id=116&ward_id=0&facility_level_id=0&ownership_id=0&operational_status_id=1&registration_status_id=0&license_status_id=0&geo_codes=0&service_type=0&service_category_id=0&entries_per_page=500&page=3'\n",
    "imo_response_3 = requests.get(imo_url_3)\n",
    "\n",
    "if imo_response_3.status_code == 200:\n",
    "    imo_soup_3 = BeautifulSoup(imo_response_3.text, 'html.parser')\n",
    "    imo_buttons_3 = imo_soup_3.find_all('button', class_='btn btn-success btn-sm')\n",
    "\n",
    "    \n",
    "    for imo_button_3 in imo_buttons_3:\n",
    "        imo_data_attributes_3 = {key.replace('data-', ''): value for key, value in imo_button_3.attrs.items() if key != 'class'}\n",
    "    \n",
    "        extracted_data.append(imo_data_attributes_3)\n",
    "    print('Done!')\n",
    "\n",
    "else:\n",
    "    print(f\"Failed to retrieve the webpage. Status code: {imo_response_3.status_code}\")"
   ]
  },
  {
   "cell_type": "code",
   "execution_count": 38,
   "id": "bc3fbbcc",
   "metadata": {},
   "outputs": [
    {
     "name": "stdout",
     "output_type": "stream",
     "text": [
      "Done!\n"
     ]
    }
   ],
   "source": [
    "# For Jigawa State\n",
    "\n",
    "jigawa_url_1 = 'https://hfr.health.gov.ng/facilities/hospitals-search?_token=9ycyuChNtWK5HxHTOLB9wECGfkZaI8mK2LjPn8tB&state_id=117&lga_id=&ward_id=0&facility_level_id=0&ownership_id=0&operational_status_id=1&registration_status_id=0&license_status_id=0&geo_codes=0&service_type=0&service_category_id=0&facility_name=&entries_per_page=500'\n",
    "jigawa_response_1 = requests.get(jigawa_url_1)\n",
    "\n",
    "if jigawa_response_1.status_code == 200:\n",
    "    jigawa_soup_1 = BeautifulSoup(jigawa_response_1.text, 'html.parser')\n",
    "    jigawa_buttons_1 = jigawa_soup_1.find_all('button', class_='btn btn-success btn-sm')\n",
    "\n",
    "    \n",
    "    for jigawa_button_1 in jigawa_buttons_1:\n",
    "        jigawa_data_attributes_1 = {key.replace('data-', ''): value for key, value in jigawa_button_1.attrs.items() if key != 'class'}\n",
    "    \n",
    "        extracted_data.append(jigawa_data_attributes_1)\n",
    "    print('Done!')\n",
    "\n",
    "else:\n",
    "    print(f\"Failed to retrieve the webpage. Status code: {jigawa_response_1.status_code}\")"
   ]
  },
  {
   "cell_type": "code",
   "execution_count": 39,
   "id": "d2ad0340",
   "metadata": {},
   "outputs": [
    {
     "name": "stdout",
     "output_type": "stream",
     "text": [
      "Done!\n"
     ]
    }
   ],
   "source": [
    "jigawa_url_2 = 'https://hfr.health.gov.ng/facilities/hospitals-search?_token=9ycyuChNtWK5HxHTOLB9wECGfkZaI8mK2LjPn8tB&state_id=117&ward_id=0&facility_level_id=0&ownership_id=0&operational_status_id=1&registration_status_id=0&license_status_id=0&geo_codes=0&service_type=0&service_category_id=0&entries_per_page=500&page=2'\n",
    "jigawa_response_2 = requests.get(jigawa_url_2)\n",
    "\n",
    "if jigawa_response_2.status_code == 200:\n",
    "    jigawa_soup_2 = BeautifulSoup(jigawa_response_2.text, 'html.parser')\n",
    "    jigawa_buttons_2 = jigawa_soup_2.find_all('button', class_='btn btn-success btn-sm')\n",
    "\n",
    "    \n",
    "    for jigawa_button_2 in jigawa_buttons_2:\n",
    "        jigawa_data_attributes_2 = {key.replace('data-', ''): value for key, value in jigawa_button_2.attrs.items() if key != 'class'}\n",
    "    \n",
    "        extracted_data.append(jigawa_data_attributes_2)\n",
    "    print('Done!')\n",
    "\n",
    "else:\n",
    "    print(f\"Failed to retrieve the webpage. Status code: {jigawa_response_2.status_code}\")"
   ]
  },
  {
   "cell_type": "code",
   "execution_count": 40,
   "id": "4e103e6d",
   "metadata": {},
   "outputs": [
    {
     "name": "stdout",
     "output_type": "stream",
     "text": [
      "Done!\n"
     ]
    }
   ],
   "source": [
    "# For Kaduna State\n",
    "\n",
    "kaduna_url_1 = 'https://hfr.health.gov.ng/facilities/hospitals-search?_token=9ycyuChNtWK5HxHTOLB9wECGfkZaI8mK2LjPn8tB&state_id=118&lga_id=&ward_id=0&facility_level_id=0&ownership_id=0&operational_status_id=1&registration_status_id=0&license_status_id=0&geo_codes=0&service_type=0&service_category_id=0&facility_name=&entries_per_page=500'\n",
    "kaduna_response_1 = requests.get(kaduna_url_1)\n",
    "\n",
    "if kaduna_response_1.status_code == 200:\n",
    "    kaduna_soup_1 = BeautifulSoup(kaduna_response_1.text, 'html.parser')\n",
    "    kaduna_buttons_1 = kaduna_soup_1.find_all('button', class_='btn btn-success btn-sm')\n",
    "\n",
    "    \n",
    "    for kaduna_button_1 in kaduna_buttons_1:\n",
    "        kaduna_data_attributes_1 = {key.replace('data-', ''): value for key, value in kaduna_button_1.attrs.items() if key != 'class'}\n",
    "    \n",
    "        extracted_data.append(kaduna_data_attributes_1)\n",
    "    print('Done!')\n",
    "\n",
    "else:\n",
    "    print(f\"Failed to retrieve the webpage. Status code: {kaduna_response_1.status_code}\")"
   ]
  },
  {
   "cell_type": "code",
   "execution_count": 41,
   "id": "dc099464",
   "metadata": {},
   "outputs": [
    {
     "name": "stdout",
     "output_type": "stream",
     "text": [
      "Done!\n"
     ]
    }
   ],
   "source": [
    "kaduna_url_2 = 'https://hfr.health.gov.ng/facilities/hospitals-search?_token=9ycyuChNtWK5HxHTOLB9wECGfkZaI8mK2LjPn8tB&state_id=118&ward_id=0&facility_level_id=0&ownership_id=0&operational_status_id=1&registration_status_id=0&license_status_id=0&geo_codes=0&service_type=0&service_category_id=0&entries_per_page=500&page=2'\n",
    "kaduna_response_2 = requests.get(kaduna_url_2)\n",
    "\n",
    "if kaduna_response_2.status_code == 200:\n",
    "    kaduna_soup_2 = BeautifulSoup(kaduna_response_2.text, 'html.parser')\n",
    "    kaduna_buttons_2 = kaduna_soup_2.find_all('button', class_='btn btn-success btn-sm')\n",
    "\n",
    "    \n",
    "    for kaduna_button_2 in kaduna_buttons_2:\n",
    "        kaduna_data_attributes_2 = {key.replace('data-', ''): value for key, value in kaduna_button_2.attrs.items() if key != 'class'}\n",
    "    \n",
    "        extracted_data.append(kaduna_data_attributes_2)\n",
    "    print('Done!')\n",
    "\n",
    "else:\n",
    "    print(f\"Failed to retrieve the webpage. Status code: {kaduna_response_2.status_code}\")"
   ]
  },
  {
   "cell_type": "code",
   "execution_count": 42,
   "id": "ed05823a",
   "metadata": {},
   "outputs": [
    {
     "name": "stdout",
     "output_type": "stream",
     "text": [
      "Done!\n"
     ]
    }
   ],
   "source": [
    "kaduna_url_3 = 'https://hfr.health.gov.ng/facilities/hospitals-search?_token=9ycyuChNtWK5HxHTOLB9wECGfkZaI8mK2LjPn8tB&state_id=118&ward_id=0&facility_level_id=0&ownership_id=0&operational_status_id=1&registration_status_id=0&license_status_id=0&geo_codes=0&service_type=0&service_category_id=0&entries_per_page=500&page=3'\n",
    "kaduna_response_3 = requests.get(kaduna_url_3)\n",
    "\n",
    "if kaduna_response_3.status_code == 200:\n",
    "    kaduna_soup_3 = BeautifulSoup(kaduna_response_3.text, 'html.parser')\n",
    "    kaduna_buttons_3 = kaduna_soup_3.find_all('button', class_='btn btn-success btn-sm')\n",
    "\n",
    "    \n",
    "    for kaduna_button_3 in kaduna_buttons_3:\n",
    "        kaduna_data_attributes_3 = {key.replace('data-', ''): value for key, value in kaduna_button_3.attrs.items() if key != 'class'}\n",
    "    \n",
    "        extracted_data.append(kaduna_data_attributes_3)\n",
    "    print('Done!')\n",
    "\n",
    "else:\n",
    "    print(f\"Failed to retrieve the webpage. Status code: {kaduna_response_3.status_code}\")"
   ]
  },
  {
   "cell_type": "code",
   "execution_count": 43,
   "id": "e01285ee",
   "metadata": {},
   "outputs": [
    {
     "name": "stdout",
     "output_type": "stream",
     "text": [
      "Done!\n"
     ]
    }
   ],
   "source": [
    "# For Kano State\n",
    "\n",
    "kano_url_1 = 'https://hfr.health.gov.ng/facilities/hospitals-search?_token=9ycyuChNtWK5HxHTOLB9wECGfkZaI8mK2LjPn8tB&state_id=119&lga_id=&ward_id=0&facility_level_id=0&ownership_id=0&operational_status_id=1&registration_status_id=0&license_status_id=0&geo_codes=0&service_type=0&service_category_id=0&facility_name=&entries_per_page=500'\n",
    "kano_response_1 = requests.get(kano_url_1)\n",
    "\n",
    "if kano_response_1.status_code == 200:\n",
    "    kano_soup_1 = BeautifulSoup(kano_response_1.text, 'html.parser')\n",
    "    kano_buttons_1 = kano_soup_1.find_all('button', class_='btn btn-success btn-sm')\n",
    "\n",
    "    \n",
    "    for kano_button_1 in kano_buttons_1:\n",
    "        kano_data_attributes_1 = {key.replace('data-', ''): value for key, value in kano_button_1.attrs.items() if key != 'class'}\n",
    "    \n",
    "        extracted_data.append(kano_data_attributes_1)\n",
    "    print('Done!')\n",
    "\n",
    "else:\n",
    "    print(f\"Failed to retrieve the webpage. Status code: {kano_response_1.status_code}\")"
   ]
  },
  {
   "cell_type": "code",
   "execution_count": 44,
   "id": "02b3697e",
   "metadata": {},
   "outputs": [
    {
     "name": "stdout",
     "output_type": "stream",
     "text": [
      "Done!\n"
     ]
    }
   ],
   "source": [
    "kano_url_2 = 'https://hfr.health.gov.ng/facilities/hospitals-search?_token=9ycyuChNtWK5HxHTOLB9wECGfkZaI8mK2LjPn8tB&state_id=119&ward_id=0&facility_level_id=0&ownership_id=0&operational_status_id=1&registration_status_id=0&license_status_id=0&geo_codes=0&service_type=0&service_category_id=0&entries_per_page=500&page=2'\n",
    "kano_response_2 = requests.get(kano_url_2)\n",
    "\n",
    "if kano_response_2.status_code == 200:\n",
    "    kano_soup_2 = BeautifulSoup(kano_response_2.text, 'html.parser')\n",
    "    kano_buttons_2 = kano_soup_2.find_all('button', class_='btn btn-success btn-sm')\n",
    "\n",
    "    \n",
    "    for kano_button_2 in kano_buttons_2:\n",
    "        kano_data_attributes_2 = {key.replace('data-', ''): value for key, value in kano_button_2.attrs.items() if key != 'class'}\n",
    "    \n",
    "        extracted_data.append(kano_data_attributes_2)\n",
    "    print('Done!')\n",
    "\n",
    "else:\n",
    "    print(f\"Failed to retrieve the webpage. Status code: {kano_response_2.status_code}\")"
   ]
  },
  {
   "cell_type": "code",
   "execution_count": 45,
   "id": "d84d302e",
   "metadata": {},
   "outputs": [
    {
     "name": "stdout",
     "output_type": "stream",
     "text": [
      "Done!\n"
     ]
    }
   ],
   "source": [
    "kano_url_3 = 'https://hfr.health.gov.ng/facilities/hospitals-search?_token=9ycyuChNtWK5HxHTOLB9wECGfkZaI8mK2LjPn8tB&state_id=119&ward_id=0&facility_level_id=0&ownership_id=0&operational_status_id=1&registration_status_id=0&license_status_id=0&geo_codes=0&service_type=0&service_category_id=0&entries_per_page=500&page=3'\n",
    "kano_response_3 = requests.get(kano_url_3)\n",
    "\n",
    "if kano_response_3.status_code == 200:\n",
    "    kano_soup_3 = BeautifulSoup(kano_response_3.text, 'html.parser')\n",
    "    kano_buttons_3 = kano_soup_3.find_all('button', class_='btn btn-success btn-sm')\n",
    "\n",
    "    \n",
    "    for kano_button_3 in kano_buttons_3:\n",
    "        kano_data_attributes_3 = {key.replace('data-', ''): value for key, value in kano_button_3.attrs.items() if key != 'class'}\n",
    "    \n",
    "        extracted_data.append(kano_data_attributes_3)\n",
    "    print('Done!')\n",
    "\n",
    "else:\n",
    "    print(f\"Failed to retrieve the webpage. Status code: {kano_response_3.status_code}\")"
   ]
  },
  {
   "cell_type": "code",
   "execution_count": 46,
   "id": "c9e31c9f",
   "metadata": {},
   "outputs": [
    {
     "name": "stdout",
     "output_type": "stream",
     "text": [
      "Done!\n"
     ]
    }
   ],
   "source": [
    "# For Katsina State\n",
    "\n",
    "katsina_url_1 = 'https://hfr.health.gov.ng/facilities/hospitals-search?_token=9ycyuChNtWK5HxHTOLB9wECGfkZaI8mK2LjPn8tB&state_id=120&lga_id=&ward_id=0&facility_level_id=0&ownership_id=0&operational_status_id=1&registration_status_id=0&license_status_id=0&geo_codes=0&service_type=0&service_category_id=0&facility_name=&entries_per_page=500'\n",
    "katsina_response_1 = requests.get(katsina_url_1)\n",
    "\n",
    "if katsina_response_1.status_code == 200:\n",
    "    katsina_soup_1 = BeautifulSoup(katsina_response_1.text, 'html.parser')\n",
    "    katsina_buttons_1 = katsina_soup_1.find_all('button', class_='btn btn-success btn-sm')\n",
    "\n",
    "    \n",
    "    for katsina_button_1 in katsina_buttons_1:\n",
    "        katsina_data_attributes_1 = {key.replace('data-', ''): value for key, value in katsina_button_1.attrs.items() if key != 'class'}\n",
    "    \n",
    "        extracted_data.append(katsina_data_attributes_1)\n",
    "    print('Done!')\n",
    "\n",
    "else:\n",
    "    print(f\"Failed to retrieve the webpage. Status code: {katsina_response_1.status_code}\")"
   ]
  },
  {
   "cell_type": "code",
   "execution_count": 47,
   "id": "b5760b96",
   "metadata": {},
   "outputs": [
    {
     "name": "stdout",
     "output_type": "stream",
     "text": [
      "Done!\n"
     ]
    }
   ],
   "source": [
    "katsina_url_2 = 'https://hfr.health.gov.ng/facilities/hospitals-search?_token=9ycyuChNtWK5HxHTOLB9wECGfkZaI8mK2LjPn8tB&state_id=120&ward_id=0&facility_level_id=0&ownership_id=0&operational_status_id=1&registration_status_id=0&license_status_id=0&geo_codes=0&service_type=0&service_category_id=0&entries_per_page=500&page=2'\n",
    "katsina_response_2 = requests.get(katsina_url_2)\n",
    "\n",
    "if katsina_response_2.status_code == 200:\n",
    "    katsina_soup_2 = BeautifulSoup(katsina_response_2.text, 'html.parser')\n",
    "    katsina_buttons_2 = katsina_soup_2.find_all('button', class_='btn btn-success btn-sm')\n",
    "\n",
    "    \n",
    "    for katsina_button_2 in katsina_buttons_2:\n",
    "        katsina_data_attributes_2 = {key.replace('data-', ''): value for key, value in katsina_button_2.attrs.items() if key != 'class'}\n",
    "    \n",
    "        extracted_data.append(katsina_data_attributes_2)\n",
    "    print('Done!')\n",
    "\n",
    "else:\n",
    "    print(f\"Failed to retrieve the webpage. Status code: {katsina_response_2.status_code}\")"
   ]
  },
  {
   "cell_type": "code",
   "execution_count": 48,
   "id": "8b1c5002",
   "metadata": {},
   "outputs": [
    {
     "name": "stdout",
     "output_type": "stream",
     "text": [
      "Done!\n"
     ]
    }
   ],
   "source": [
    "katsina_url_3 = 'https://hfr.health.gov.ng/facilities/hospitals-search?_token=9ycyuChNtWK5HxHTOLB9wECGfkZaI8mK2LjPn8tB&state_id=120&ward_id=0&facility_level_id=0&ownership_id=0&operational_status_id=1&registration_status_id=0&license_status_id=0&geo_codes=0&service_type=0&service_category_id=0&entries_per_page=500&page=3'\n",
    "katsina_response_3 = requests.get(katsina_url_3)\n",
    "\n",
    "if katsina_response_3.status_code == 200:\n",
    "    katsina_soup_3 = BeautifulSoup(katsina_response_3.text, 'html.parser')\n",
    "    katsina_buttons_3 = katsina_soup_3.find_all('button', class_='btn btn-success btn-sm')\n",
    "\n",
    "    \n",
    "    for katsina_button_3 in katsina_buttons_3:\n",
    "        katsina_data_attributes_3 = {key.replace('data-', ''): value for key, value in katsina_button_3.attrs.items() if key != 'class'}\n",
    "    \n",
    "        extracted_data.append(katsina_data_attributes_3)\n",
    "    print('Done!')\n",
    "\n",
    "else:\n",
    "    print(f\"Failed to retrieve the webpage. Status code: {katsina_response_3.status_code}\")"
   ]
  },
  {
   "cell_type": "code",
   "execution_count": 49,
   "id": "40cbaa25",
   "metadata": {},
   "outputs": [
    {
     "name": "stdout",
     "output_type": "stream",
     "text": [
      "Done!\n"
     ]
    }
   ],
   "source": [
    "katsina_url_4 = 'https://hfr.health.gov.ng/facilities/hospitals-search?_token=9ycyuChNtWK5HxHTOLB9wECGfkZaI8mK2LjPn8tB&state_id=120&ward_id=0&facility_level_id=0&ownership_id=0&operational_status_id=1&registration_status_id=0&license_status_id=0&geo_codes=0&service_type=0&service_category_id=0&entries_per_page=500&page=4'\n",
    "katsina_response_4 = requests.get(katsina_url_4)\n",
    "\n",
    "if katsina_response_4.status_code == 200:\n",
    "    katsina_soup_4 = BeautifulSoup(katsina_response_4.text, 'html.parser')\n",
    "    katsina_buttons_4 = katsina_soup_4.find_all('button', class_='btn btn-success btn-sm')\n",
    "\n",
    "    \n",
    "    for katsina_button_4 in katsina_buttons_4:\n",
    "        katsina_data_attributes_4 = {key.replace('data-', ''): value for key, value in katsina_button_4.attrs.items() if key != 'class'}\n",
    "    \n",
    "        extracted_data.append(katsina_data_attributes_4)\n",
    "    print('Done!')\n",
    "\n",
    "else:\n",
    "    print(f\"Failed to retrieve the webpage. Status code: {katsina_response_4.status_code}\")"
   ]
  },
  {
   "cell_type": "code",
   "execution_count": 50,
   "id": "81a1b0f8",
   "metadata": {},
   "outputs": [
    {
     "name": "stdout",
     "output_type": "stream",
     "text": [
      "Done!\n"
     ]
    }
   ],
   "source": [
    "# For Kebbi State\n",
    "\n",
    "kebbi_url_1 = 'https://hfr.health.gov.ng/facilities/hospitals-search?_token=9ycyuChNtWK5HxHTOLB9wECGfkZaI8mK2LjPn8tB&state_id=121&lga_id=&ward_id=0&facility_level_id=0&ownership_id=0&operational_status_id=1&registration_status_id=0&license_status_id=0&geo_codes=0&service_type=0&service_category_id=0&facility_name=&entries_per_page=500'\n",
    "kebbi_response_1 = requests.get(kebbi_url_1)\n",
    "\n",
    "if kebbi_response_1.status_code == 200:\n",
    "    kebbi_soup_1 = BeautifulSoup(kebbi_response_1.text, 'html.parser')\n",
    "    kebbi_buttons_1 = kebbi_soup_1.find_all('button', class_='btn btn-success btn-sm')\n",
    "\n",
    "    \n",
    "    for kebbi_button_1 in kebbi_buttons_1:\n",
    "        kebbi_data_attributes_1 = {key.replace('data-', ''): value for key, value in kebbi_button_1.attrs.items() if key != 'class'}\n",
    "    \n",
    "        extracted_data.append(kebbi_data_attributes_1)\n",
    "    print('Done!')\n",
    "\n",
    "else:\n",
    "    print(f\"Failed to retrieve the webpage. Status code: {kebbi_response_1.status_code}\")"
   ]
  },
  {
   "cell_type": "code",
   "execution_count": 51,
   "id": "eeb4d00a",
   "metadata": {},
   "outputs": [
    {
     "name": "stdout",
     "output_type": "stream",
     "text": [
      "Done!\n"
     ]
    }
   ],
   "source": [
    "kebbi_url_2 = 'https://hfr.health.gov.ng/facilities/hospitals-search?_token=9ycyuChNtWK5HxHTOLB9wECGfkZaI8mK2LjPn8tB&state_id=121&ward_id=0&facility_level_id=0&ownership_id=0&operational_status_id=1&registration_status_id=0&license_status_id=0&geo_codes=0&service_type=0&service_category_id=0&entries_per_page=500&page=2'\n",
    "kebbi_response_2 = requests.get(kebbi_url_2)\n",
    "\n",
    "if kebbi_response_2.status_code == 200:\n",
    "    kebbi_soup_2 = BeautifulSoup(kebbi_response_2.text, 'html.parser')\n",
    "    kebbi_buttons_2 = kebbi_soup_2.find_all('button', class_='btn btn-success btn-sm')\n",
    "\n",
    "    \n",
    "    for kebbi_button_2 in kebbi_buttons_2:\n",
    "        kebbi_data_attributes_2 = {key.replace('data-', ''): value for key, value in kebbi_button_2.attrs.items() if key != 'class'}\n",
    "    \n",
    "        extracted_data.append(kebbi_data_attributes_2)\n",
    "    print('Done!')\n",
    "\n",
    "else:\n",
    "    print(f\"Failed to retrieve the webpage. Status code: {kebbi_response_2.status_code}\")"
   ]
  },
  {
   "cell_type": "code",
   "execution_count": 52,
   "id": "64a656cf",
   "metadata": {},
   "outputs": [
    {
     "name": "stdout",
     "output_type": "stream",
     "text": [
      "Done!\n"
     ]
    }
   ],
   "source": [
    "# For Kogi State\n",
    "\n",
    "kogi_url_1 = 'https://hfr.health.gov.ng/facilities/hospitals-search?_token=9ycyuChNtWK5HxHTOLB9wECGfkZaI8mK2LjPn8tB&state_id=122&lga_id=&ward_id=0&facility_level_id=0&ownership_id=0&operational_status_id=1&registration_status_id=0&license_status_id=0&geo_codes=0&service_type=0&service_category_id=0&facility_name=&entries_per_page=500'\n",
    "kogi_response_1 = requests.get(kogi_url_1)\n",
    "\n",
    "if kogi_response_1.status_code == 200:\n",
    "    kogi_soup_1 = BeautifulSoup(kogi_response_1.text, 'html.parser')\n",
    "    kogi_buttons_1 = kogi_soup_1.find_all('button', class_='btn btn-success btn-sm')\n",
    "\n",
    "    \n",
    "    for kogi_button_1 in kogi_buttons_1:\n",
    "        kogi_data_attributes_1 = {key.replace('data-', ''): value for key, value in kogi_button_1.attrs.items() if key != 'class'}\n",
    "    \n",
    "        extracted_data.append(kogi_data_attributes_1)\n",
    "    print('Done!')\n",
    "\n",
    "else:\n",
    "    print(f\"Failed to retrieve the webpage. Status code: {kogi_response_1.status_code}\")"
   ]
  },
  {
   "cell_type": "code",
   "execution_count": 53,
   "id": "d2f6d4c6",
   "metadata": {},
   "outputs": [
    {
     "name": "stdout",
     "output_type": "stream",
     "text": [
      "Done!\n"
     ]
    }
   ],
   "source": [
    "kogi_url_2 = 'https://hfr.health.gov.ng/facilities/hospitals-search?_token=9ycyuChNtWK5HxHTOLB9wECGfkZaI8mK2LjPn8tB&state_id=122&ward_id=0&facility_level_id=0&ownership_id=0&operational_status_id=1&registration_status_id=0&license_status_id=0&geo_codes=0&service_type=0&service_category_id=0&entries_per_page=500&page=2'\n",
    "kogi_response_2 = requests.get(kogi_url_2)\n",
    "\n",
    "if kogi_response_2.status_code == 200:\n",
    "    kogi_soup_2 = BeautifulSoup(kogi_response_2.text, 'html.parser')\n",
    "    kogi_buttons_2 = kogi_soup_2.find_all('button', class_='btn btn-success btn-sm')\n",
    "\n",
    "    \n",
    "    for kogi_button_2 in kogi_buttons_2:\n",
    "        kogi_data_attributes_2 = {key.replace('data-', ''): value for key, value in kogi_button_2.attrs.items() if key != 'class'}\n",
    "    \n",
    "        extracted_data.append(kogi_data_attributes_2)\n",
    "    print('Done!')\n",
    "\n",
    "else:\n",
    "    print(f\"Failed to retrieve the webpage. Status code: {kogi_response_2.status_code}\")"
   ]
  },
  {
   "cell_type": "code",
   "execution_count": 54,
   "id": "d443f513",
   "metadata": {},
   "outputs": [
    {
     "name": "stdout",
     "output_type": "stream",
     "text": [
      "Done!\n"
     ]
    }
   ],
   "source": [
    "kogi_url_3 = 'https://hfr.health.gov.ng/facilities/hospitals-search?_token=9ycyuChNtWK5HxHTOLB9wECGfkZaI8mK2LjPn8tB&state_id=122&ward_id=0&facility_level_id=0&ownership_id=0&operational_status_id=1&registration_status_id=0&license_status_id=0&geo_codes=0&service_type=0&service_category_id=0&entries_per_page=500&page=3'\n",
    "kogi_response_3 = requests.get(kogi_url_3)\n",
    "\n",
    "if kogi_response_3.status_code == 200:\n",
    "    kogi_soup_3 = BeautifulSoup(kogi_response_3.text, 'html.parser')\n",
    "    kogi_buttons_3 = kogi_soup_3.find_all('button', class_='btn btn-success btn-sm')\n",
    "\n",
    "    \n",
    "    for kogi_button_3 in kogi_buttons_3:\n",
    "        kogi_data_attributes_3 = {key.replace('data-', ''): value for key, value in kogi_button_3.attrs.items() if key != 'class'}\n",
    "    \n",
    "        extracted_data.append(kogi_data_attributes_3)\n",
    "    print('Done!')\n",
    "\n",
    "else:\n",
    "    print(f\"Failed to retrieve the webpage. Status code: {kogi_response_3.status_code}\")"
   ]
  },
  {
   "cell_type": "code",
   "execution_count": 55,
   "id": "2e5b8a6a",
   "metadata": {},
   "outputs": [
    {
     "name": "stdout",
     "output_type": "stream",
     "text": [
      "Done!\n"
     ]
    }
   ],
   "source": [
    "# For Kwara State\n",
    "\n",
    "kwara_url_1 = 'https://hfr.health.gov.ng/facilities/hospitals-search?_token=9ycyuChNtWK5HxHTOLB9wECGfkZaI8mK2LjPn8tB&state_id=123&lga_id=&ward_id=0&facility_level_id=0&ownership_id=0&operational_status_id=1&registration_status_id=0&license_status_id=0&geo_codes=0&service_type=0&service_category_id=0&facility_name=&entries_per_page=500'\n",
    "kwara_response_1 = requests.get(kwara_url_1)\n",
    "\n",
    "if kwara_response_1.status_code == 200:\n",
    "    kwara_soup_1 = BeautifulSoup(kwara_response_1.text, 'html.parser')\n",
    "    kwara_buttons_1 = kwara_soup_1.find_all('button', class_='btn btn-success btn-sm')\n",
    "\n",
    "    \n",
    "    for kwara_button_1 in kwara_buttons_1:\n",
    "        kwara_data_attributes_1 = {key.replace('data-', ''): value for key, value in kwara_button_1.attrs.items() if key != 'class'}\n",
    "    \n",
    "        extracted_data.append(kwara_data_attributes_1)\n",
    "    print('Done!')\n",
    "\n",
    "else:\n",
    "    print(f\"Failed to retrieve the webpage. Status code: {kwara_response_1.status_code}\")"
   ]
  },
  {
   "cell_type": "code",
   "execution_count": 56,
   "id": "d0b16493",
   "metadata": {},
   "outputs": [
    {
     "name": "stdout",
     "output_type": "stream",
     "text": [
      "Done!\n"
     ]
    }
   ],
   "source": [
    "kwara_url_2 = 'https://hfr.health.gov.ng/facilities/hospitals-search?_token=9ycyuChNtWK5HxHTOLB9wECGfkZaI8mK2LjPn8tB&state_id=123&ward_id=0&facility_level_id=0&ownership_id=0&operational_status_id=1&registration_status_id=0&license_status_id=0&geo_codes=0&service_type=0&service_category_id=0&entries_per_page=500&page=2'\n",
    "kwara_response_2 = requests.get(kwara_url_2)\n",
    "\n",
    "if kwara_response_2.status_code == 200:\n",
    "    kwara_soup_2 = BeautifulSoup(kwara_response_2.text, 'html.parser')\n",
    "    kwara_buttons_2 = kwara_soup_2.find_all('button', class_='btn btn-success btn-sm')\n",
    "\n",
    "    \n",
    "    for kwara_button_2 in kwara_buttons_2:\n",
    "        kwara_data_attributes_2 = {key.replace('data-', ''): value for key, value in kwara_button_2.attrs.items() if key != 'class'}\n",
    "    \n",
    "        extracted_data.append(kwara_data_attributes_2)\n",
    "    print('Done!')\n",
    "\n",
    "else:\n",
    "    print(f\"Failed to retrieve the webpage. Status code: {kwara_response_2.status_code}\")"
   ]
  },
  {
   "cell_type": "code",
   "execution_count": 57,
   "id": "0166d836",
   "metadata": {},
   "outputs": [
    {
     "name": "stdout",
     "output_type": "stream",
     "text": [
      "Done!\n"
     ]
    }
   ],
   "source": [
    "# For Lagos State\n",
    "\n",
    "lagos_url_1 = 'https://hfr.health.gov.ng/facilities/hospitals-search?_token=9ycyuChNtWK5HxHTOLB9wECGfkZaI8mK2LjPn8tB&state_id=124&lga_id=&ward_id=0&facility_level_id=0&ownership_id=0&operational_status_id=1&registration_status_id=0&license_status_id=0&geo_codes=0&service_type=0&service_category_id=0&facility_name=&entries_per_page=500'\n",
    "lagos_response_1 = requests.get(lagos_url_1)\n",
    "\n",
    "if lagos_response_1.status_code == 200:\n",
    "    lagos_soup_1 = BeautifulSoup(lagos_response_1.text, 'html.parser')\n",
    "    lagos_buttons_1 = lagos_soup_1.find_all('button', class_='btn btn-success btn-sm')\n",
    "\n",
    "    \n",
    "    for lagos_button_1 in lagos_buttons_1:\n",
    "        lagos_data_attributes_1 = {key.replace('data-', ''): value for key, value in lagos_button_1.attrs.items() if key != 'class'}\n",
    "    \n",
    "        extracted_data.append(lagos_data_attributes_1)\n",
    "    print('Done!')\n",
    "\n",
    "else:\n",
    "    print(f\"Failed to retrieve the webpage. Status code: {lagos_response_1.status_code}\")"
   ]
  },
  {
   "cell_type": "code",
   "execution_count": 58,
   "id": "d1c1f2af",
   "metadata": {},
   "outputs": [
    {
     "name": "stdout",
     "output_type": "stream",
     "text": [
      "Done!\n"
     ]
    }
   ],
   "source": [
    "lagos_url_2 = 'https://hfr.health.gov.ng/facilities/hospitals-search?_token=9ycyuChNtWK5HxHTOLB9wECGfkZaI8mK2LjPn8tB&state_id=124&ward_id=0&facility_level_id=0&ownership_id=0&operational_status_id=1&registration_status_id=0&license_status_id=0&geo_codes=0&service_type=0&service_category_id=0&entries_per_page=500&page=2'\n",
    "lagos_response_2 = requests.get(lagos_url_2)\n",
    "\n",
    "if lagos_response_2.status_code == 200:\n",
    "    lagos_soup_2 = BeautifulSoup(lagos_response_2.text, 'html.parser')\n",
    "    lagos_buttons_2 = lagos_soup_2.find_all('button', class_='btn btn-success btn-sm')\n",
    "\n",
    "    \n",
    "    for lagos_button_2 in lagos_buttons_2:\n",
    "        lagos_data_attributes_2 = {key.replace('data-', ''): value for key, value in lagos_button_2.attrs.items() if key != 'class'}\n",
    "    \n",
    "        extracted_data.append(lagos_data_attributes_2)\n",
    "    print('Done!')\n",
    "\n",
    "else:\n",
    "    print(f\"Failed to retrieve the webpage. Status code: {lagos_response_2.status_code}\")"
   ]
  },
  {
   "cell_type": "code",
   "execution_count": 59,
   "id": "ddfbcedb",
   "metadata": {},
   "outputs": [
    {
     "name": "stdout",
     "output_type": "stream",
     "text": [
      "Done!\n"
     ]
    }
   ],
   "source": [
    "lagos_url_3 = 'https://hfr.health.gov.ng/facilities/hospitals-search?_token=9ycyuChNtWK5HxHTOLB9wECGfkZaI8mK2LjPn8tB&state_id=124&ward_id=0&facility_level_id=0&ownership_id=0&operational_status_id=1&registration_status_id=0&license_status_id=0&geo_codes=0&service_type=0&service_category_id=0&entries_per_page=500&page=3'\n",
    "lagos_response_3 = requests.get(lagos_url_3)\n",
    "\n",
    "if lagos_response_3.status_code == 200:\n",
    "    lagos_soup_3 = BeautifulSoup(lagos_response_3.text, 'html.parser')\n",
    "    lagos_buttons_3 = lagos_soup_3.find_all('button', class_='btn btn-success btn-sm')\n",
    "\n",
    "    \n",
    "    for lagos_button_3 in lagos_buttons_3:\n",
    "        lagos_data_attributes_3 = {key.replace('data-', ''): value for key, value in lagos_button_3.attrs.items() if key != 'class'}\n",
    "    \n",
    "        extracted_data.append(lagos_data_attributes_3)\n",
    "    print('Done!')\n",
    "\n",
    "else:\n",
    "    print(f\"Failed to retrieve the webpage. Status code: {lagos_response_3.status_code}\")"
   ]
  },
  {
   "cell_type": "code",
   "execution_count": 60,
   "id": "a6ceb85d",
   "metadata": {},
   "outputs": [
    {
     "name": "stdout",
     "output_type": "stream",
     "text": [
      "Done!\n"
     ]
    }
   ],
   "source": [
    "lagos_url_4 = 'https://hfr.health.gov.ng/facilities/hospitals-search?_token=9ycyuChNtWK5HxHTOLB9wECGfkZaI8mK2LjPn8tB&state_id=124&ward_id=0&facility_level_id=0&ownership_id=0&operational_status_id=1&registration_status_id=0&license_status_id=0&geo_codes=0&service_type=0&service_category_id=0&entries_per_page=500&page=4'\n",
    "lagos_response_4 = requests.get(lagos_url_4)\n",
    "\n",
    "if lagos_response_4.status_code == 200:\n",
    "    lagos_soup_4 = BeautifulSoup(lagos_response_4.text, 'html.parser')\n",
    "    lagos_buttons_4 = lagos_soup_4.find_all('button', class_='btn btn-success btn-sm')\n",
    "\n",
    "    \n",
    "    for lagos_button_4 in lagos_buttons_4:\n",
    "        lagos_data_attributes_4 = {key.replace('data-', ''): value for key, value in lagos_button_4.attrs.items() if key != 'class'}\n",
    "    \n",
    "        extracted_data.append(lagos_data_attributes_4)\n",
    "    print('Done!')\n",
    "\n",
    "else:\n",
    "    print(f\"Failed to retrieve the webpage. Status code: {lagos_response_4.status_code}\")"
   ]
  },
  {
   "cell_type": "code",
   "execution_count": 61,
   "id": "93b6e154",
   "metadata": {},
   "outputs": [
    {
     "name": "stdout",
     "output_type": "stream",
     "text": [
      "Done!\n"
     ]
    }
   ],
   "source": [
    "lagos_url_5 = 'https://hfr.health.gov.ng/facilities/hospitals-search?_token=9ycyuChNtWK5HxHTOLB9wECGfkZaI8mK2LjPn8tB&state_id=124&ward_id=0&facility_level_id=0&ownership_id=0&operational_status_id=1&registration_status_id=0&license_status_id=0&geo_codes=0&service_type=0&service_category_id=0&entries_per_page=500&page=5'\n",
    "lagos_response_5 = requests.get(lagos_url_5)\n",
    "\n",
    "if lagos_response_5.status_code == 200:\n",
    "    lagos_soup_5= BeautifulSoup(lagos_response_5.text, 'html.parser')\n",
    "    lagos_buttons_5 = lagos_soup_5.find_all('button', class_='btn btn-success btn-sm')\n",
    "\n",
    "    \n",
    "    for lagos_button_5 in lagos_buttons_5:\n",
    "        lagos_data_attributes_5 = {key.replace('data-', ''): value for key, value in lagos_button_5.attrs.items() if key != 'class'}\n",
    "    \n",
    "        extracted_data.append(lagos_data_attributes_5)\n",
    "    print('Done!')\n",
    "\n",
    "else:\n",
    "    print(f\"Failed to retrieve the webpage. Status code: {lagos_response_5.status_code}\")"
   ]
  },
  {
   "cell_type": "code",
   "execution_count": 62,
   "id": "5788b3a1",
   "metadata": {},
   "outputs": [
    {
     "name": "stdout",
     "output_type": "stream",
     "text": [
      "Done!\n"
     ]
    }
   ],
   "source": [
    "# For Nasarawa State\n",
    "\n",
    "nasarawa_url_1 = 'https://hfr.health.gov.ng/facilities/hospitals-search?_token=9ycyuChNtWK5HxHTOLB9wECGfkZaI8mK2LjPn8tB&state_id=125&lga_id=&ward_id=0&facility_level_id=0&ownership_id=0&operational_status_id=1&registration_status_id=0&license_status_id=0&geo_codes=0&service_type=0&service_category_id=0&facility_name=&entries_per_page=500'\n",
    "nasarawa_response_1 = requests.get(nasarawa_url_1)\n",
    "\n",
    "if nasarawa_response_1.status_code == 200:\n",
    "    nasarawa_soup_1 = BeautifulSoup(nasarawa_response_1.text, 'html.parser')\n",
    "    nasarawa_buttons_1 = nasarawa_soup_1.find_all('button', class_='btn btn-success btn-sm')\n",
    "\n",
    "    \n",
    "    for nasarawa_button_1 in nasarawa_buttons_1:\n",
    "        nasarawa_data_attributes_1 = {key.replace('data-', ''): value for key, value in nasarawa_button_1.attrs.items() if key != 'class'}\n",
    "    \n",
    "        extracted_data.append(nasarawa_data_attributes_1)\n",
    "    print('Done!')\n",
    "\n",
    "else:\n",
    "    print(f\"Failed to retrieve the webpage. Status code: {nasarawa_response_1.status_code}\")"
   ]
  },
  {
   "cell_type": "code",
   "execution_count": 63,
   "id": "04b1f86c",
   "metadata": {},
   "outputs": [
    {
     "name": "stdout",
     "output_type": "stream",
     "text": [
      "Done!\n"
     ]
    }
   ],
   "source": [
    "nasarawa_url_2 = 'https://hfr.health.gov.ng/facilities/hospitals-search?_token=9ycyuChNtWK5HxHTOLB9wECGfkZaI8mK2LjPn8tB&state_id=125&ward_id=0&facility_level_id=0&ownership_id=0&operational_status_id=1&registration_status_id=0&license_status_id=0&geo_codes=0&service_type=0&service_category_id=0&entries_per_page=500&page=2'\n",
    "nasarawa_response_2 = requests.get(nasarawa_url_2)\n",
    "\n",
    "if nasarawa_response_2.status_code == 200:\n",
    "    nasarawa_soup_2 = BeautifulSoup(nasarawa_response_2.text, 'html.parser')\n",
    "    nasarawa_buttons_2 = nasarawa_soup_2.find_all('button', class_='btn btn-success btn-sm')\n",
    "\n",
    "    \n",
    "    for nasarawa_button_2 in nasarawa_buttons_2:\n",
    "        nasarawa_data_attributes_2 = {key.replace('data-', ''): value for key, value in nasarawa_button_2.attrs.items() if key != 'class'}\n",
    "    \n",
    "        extracted_data.append(nasarawa_data_attributes_2)\n",
    "    print('Done!')\n",
    "\n",
    "else:\n",
    "    print(f\"Failed to retrieve the webpage. Status code: {nasarawa_response_2.status_code}\")"
   ]
  },
  {
   "cell_type": "code",
   "execution_count": 64,
   "id": "d3986698",
   "metadata": {},
   "outputs": [
    {
     "name": "stdout",
     "output_type": "stream",
     "text": [
      "Done!\n"
     ]
    }
   ],
   "source": [
    "nasarawa_url_3 = 'https://hfr.health.gov.ng/facilities/hospitals-search?_token=9ycyuChNtWK5HxHTOLB9wECGfkZaI8mK2LjPn8tB&state_id=125&ward_id=0&facility_level_id=0&ownership_id=0&operational_status_id=1&registration_status_id=0&license_status_id=0&geo_codes=0&service_type=0&service_category_id=0&entries_per_page=500&page=3'\n",
    "nasarawa_response_3 = requests.get(nasarawa_url_3)\n",
    "\n",
    "if nasarawa_response_3.status_code == 200:\n",
    "    nasarawa_soup_3 = BeautifulSoup(nasarawa_response_3.text, 'html.parser')\n",
    "    nasarawa_buttons_3 = nasarawa_soup_3.find_all('button', class_='btn btn-success btn-sm')\n",
    "\n",
    "    \n",
    "    for nasarawa_button_3 in nasarawa_buttons_3:\n",
    "        nasarawa_data_attributes_3 = {key.replace('data-', ''): value for key, value in nasarawa_button_3.attrs.items() if key != 'class'}\n",
    "    \n",
    "        extracted_data.append(nasarawa_data_attributes_3)\n",
    "    print('Done!')\n",
    "\n",
    "else:\n",
    "    print(f\"Failed to retrieve the webpage. Status code: {nasarawa_response_3.status_code}\")"
   ]
  },
  {
   "cell_type": "code",
   "execution_count": 65,
   "id": "39be0072",
   "metadata": {},
   "outputs": [
    {
     "name": "stdout",
     "output_type": "stream",
     "text": [
      "Done!\n"
     ]
    }
   ],
   "source": [
    "# For Niger State\n",
    "\n",
    "niger_url_1 = 'https://hfr.health.gov.ng/facilities/hospitals-search?_token=9ycyuChNtWK5HxHTOLB9wECGfkZaI8mK2LjPn8tB&state_id=126&lga_id=&ward_id=0&facility_level_id=0&ownership_id=0&operational_status_id=1&registration_status_id=0&license_status_id=0&geo_codes=0&service_type=0&service_category_id=0&facility_name=&entries_per_page=500'\n",
    "niger_response_1 = requests.get(niger_url_1)\n",
    "\n",
    "if niger_response_1.status_code == 200:\n",
    "    niger_soup_1 = BeautifulSoup(niger_response_1.text, 'html.parser')\n",
    "    niger_buttons_1 = niger_soup_1.find_all('button', class_='btn btn-success btn-sm')\n",
    "\n",
    "    \n",
    "    for niger_button_1 in niger_buttons_1:\n",
    "        niger_data_attributes_1 = {key.replace('data-', ''): value for key, value in niger_button_1.attrs.items() if key != 'class'}\n",
    "    \n",
    "        extracted_data.append(niger_data_attributes_1)\n",
    "    print('Done!')\n",
    "\n",
    "else:\n",
    "    print(f\"Failed to retrieve the webpage. Status code: {niger_response_1.status_code}\")"
   ]
  },
  {
   "cell_type": "code",
   "execution_count": 66,
   "id": "9c90535d",
   "metadata": {},
   "outputs": [
    {
     "name": "stdout",
     "output_type": "stream",
     "text": [
      "Done!\n"
     ]
    }
   ],
   "source": [
    "niger_url_2 = 'https://hfr.health.gov.ng/facilities/hospitals-search?_token=9ycyuChNtWK5HxHTOLB9wECGfkZaI8mK2LjPn8tB&state_id=126&ward_id=0&facility_level_id=0&ownership_id=0&operational_status_id=1&registration_status_id=0&license_status_id=0&geo_codes=0&service_type=0&service_category_id=0&entries_per_page=500&page=2'\n",
    "niger_response_2 = requests.get(niger_url_2)\n",
    "\n",
    "if niger_response_2.status_code == 200:\n",
    "    niger_soup_2 = BeautifulSoup(niger_response_2.text, 'html.parser')\n",
    "    niger_buttons_2 = niger_soup_2.find_all('button', class_='btn btn-success btn-sm')\n",
    "\n",
    "    \n",
    "    for niger_button_2 in niger_buttons_2:\n",
    "        niger_data_attributes_2 = {key.replace('data-', ''): value for key, value in niger_button_2.attrs.items() if key != 'class'}\n",
    "    \n",
    "        extracted_data.append(niger_data_attributes_2)\n",
    "    print('Done!')\n",
    "\n",
    "else:\n",
    "    print(f\"Failed to retrieve the webpage. Status code: {niger_response_2.status_code}\")"
   ]
  },
  {
   "cell_type": "code",
   "execution_count": 67,
   "id": "1ff9bacb",
   "metadata": {},
   "outputs": [
    {
     "name": "stdout",
     "output_type": "stream",
     "text": [
      "Done!\n"
     ]
    }
   ],
   "source": [
    "niger_url_3 = 'https://hfr.health.gov.ng/facilities/hospitals-search?_token=9ycyuChNtWK5HxHTOLB9wECGfkZaI8mK2LjPn8tB&state_id=126&ward_id=0&facility_level_id=0&ownership_id=0&operational_status_id=1&registration_status_id=0&license_status_id=0&geo_codes=0&service_type=0&service_category_id=0&entries_per_page=500&page=3'\n",
    "niger_response_3 = requests.get(niger_url_3)\n",
    "\n",
    "if niger_response_3.status_code == 200:\n",
    "    niger_soup_3 = BeautifulSoup(niger_response_3.text, 'html.parser')\n",
    "    niger_buttons_3 = niger_soup_3.find_all('button', class_='btn btn-success btn-sm')\n",
    "\n",
    "    \n",
    "    for niger_button_3 in niger_buttons_3:\n",
    "        niger_data_attributes_3 = {key.replace('data-', ''): value for key, value in niger_button_3.attrs.items() if key != 'class'}\n",
    "    \n",
    "        extracted_data.append(niger_data_attributes_3)\n",
    "    print('Done!')\n",
    "\n",
    "else:\n",
    "    print(f\"Failed to retrieve the webpage. Status code: {niger_response_3.status_code}\")"
   ]
  },
  {
   "cell_type": "code",
   "execution_count": 68,
   "id": "3844815f",
   "metadata": {},
   "outputs": [
    {
     "name": "stdout",
     "output_type": "stream",
     "text": [
      "Done!\n"
     ]
    }
   ],
   "source": [
    "niger_url_4 = 'https://hfr.health.gov.ng/facilities/hospitals-search?_token=9ycyuChNtWK5HxHTOLB9wECGfkZaI8mK2LjPn8tB&state_id=126&ward_id=0&facility_level_id=0&ownership_id=0&operational_status_id=1&registration_status_id=0&license_status_id=0&geo_codes=0&service_type=0&service_category_id=0&entries_per_page=500&page=4'\n",
    "niger_response_4 = requests.get(niger_url_4)\n",
    "\n",
    "if niger_response_4.status_code == 200:\n",
    "    niger_soup_4 = BeautifulSoup(niger_response_4.text, 'html.parser')\n",
    "    niger_buttons_4 = niger_soup_4.find_all('button', class_='btn btn-success btn-sm')\n",
    "\n",
    "    \n",
    "    for niger_button_4 in niger_buttons_4:\n",
    "        niger_data_attributes_4 = {key.replace('data-', ''): value for key, value in niger_button_4.attrs.items() if key != 'class'}\n",
    "    \n",
    "        extracted_data.append(niger_data_attributes_4)\n",
    "    print('Done!')\n",
    "\n",
    "else:\n",
    "    print(f\"Failed to retrieve the webpage. Status code: {niger_response_4.status_code}\")"
   ]
  },
  {
   "cell_type": "code",
   "execution_count": 69,
   "id": "1319948d",
   "metadata": {},
   "outputs": [
    {
     "name": "stdout",
     "output_type": "stream",
     "text": [
      "Done!\n"
     ]
    }
   ],
   "source": [
    "# For Ogun State\n",
    "\n",
    "ogun_url_1 = 'https://hfr.health.gov.ng/facilities/hospitals-search?_token=9ycyuChNtWK5HxHTOLB9wECGfkZaI8mK2LjPn8tB&state_id=127&lga_id=&ward_id=0&facility_level_id=0&ownership_id=0&operational_status_id=1&registration_status_id=0&license_status_id=0&geo_codes=0&service_type=0&service_category_id=0&facility_name=&entries_per_page=500#'\n",
    "ogun_response_1 = requests.get(ogun_url_1)\n",
    "\n",
    "if ogun_response_1.status_code == 200:\n",
    "    ogun_soup_1 = BeautifulSoup(ogun_response_1.text, 'html.parser')\n",
    "    ogun_buttons_1 = ogun_soup_1.find_all('button', class_='btn btn-success btn-sm')\n",
    "\n",
    "    \n",
    "    for ogun_button_1 in ogun_buttons_1:\n",
    "        ogun_data_attributes_1 = {key.replace('data-', ''): value for key, value in ogun_button_1.attrs.items() if key != 'class'}\n",
    "    \n",
    "        extracted_data.append(niger_data_attributes_1)\n",
    "    print('Done!')\n",
    "\n",
    "else:\n",
    "    print(f\"Failed to retrieve the webpage. Status code: {ogun_response_1.status_code}\")"
   ]
  },
  {
   "cell_type": "code",
   "execution_count": 70,
   "id": "65f58d88",
   "metadata": {},
   "outputs": [
    {
     "name": "stdout",
     "output_type": "stream",
     "text": [
      "Done!\n"
     ]
    }
   ],
   "source": [
    "ogun_url_2 = 'https://hfr.health.gov.ng/facilities/hospitals-search?_token=9ycyuChNtWK5HxHTOLB9wECGfkZaI8mK2LjPn8tB&state_id=127&ward_id=0&facility_level_id=0&ownership_id=0&operational_status_id=1&registration_status_id=0&license_status_id=0&geo_codes=0&service_type=0&service_category_id=0&entries_per_page=500&page=2'\n",
    "ogun_response_2 = requests.get(ogun_url_2)\n",
    "\n",
    "if ogun_response_2.status_code == 200:\n",
    "    ogun_soup_2 = BeautifulSoup(ogun_response_2.text, 'html.parser')\n",
    "    ogun_buttons_2 = ogun_soup_2.find_all('button', class_='btn btn-success btn-sm')\n",
    "\n",
    "    \n",
    "    for ogun_button_2 in ogun_buttons_2:\n",
    "        ogun_data_attributes_2 = {key.replace('data-', ''): value for key, value in ogun_button_2.attrs.items() if key != 'class'}\n",
    "    \n",
    "        extracted_data.append(niger_data_attributes_2)\n",
    "    print('Done!')\n",
    "\n",
    "else:\n",
    "    print(f\"Failed to retrieve the webpage. Status code: {ogun_response_2.status_code}\")"
   ]
  },
  {
   "cell_type": "code",
   "execution_count": 71,
   "id": "1c1db7f6",
   "metadata": {},
   "outputs": [
    {
     "name": "stdout",
     "output_type": "stream",
     "text": [
      "Done!\n"
     ]
    }
   ],
   "source": [
    "ogun_url_3 = 'https://hfr.health.gov.ng/facilities/hospitals-search?_token=9ycyuChNtWK5HxHTOLB9wECGfkZaI8mK2LjPn8tB&state_id=127&ward_id=0&facility_level_id=0&ownership_id=0&operational_status_id=1&registration_status_id=0&license_status_id=0&geo_codes=0&service_type=0&service_category_id=0&entries_per_page=500&page=3'\n",
    "ogun_response_3 = requests.get(ogun_url_3)\n",
    "\n",
    "if ogun_response_3.status_code == 200:\n",
    "    ogun_soup_3 = BeautifulSoup(ogun_response_3.text, 'html.parser')\n",
    "    ogun_buttons_3 = ogun_soup_3.find_all('button', class_='btn btn-success btn-sm')\n",
    "\n",
    "    \n",
    "    for ogun_button_3 in ogun_buttons_3:\n",
    "        ogun_data_attributes_3 = {key.replace('data-', ''): value for key, value in ogun_button_3.attrs.items() if key != 'class'}\n",
    "    \n",
    "        extracted_data.append(ogun_data_attributes_3)\n",
    "    print('Done!')\n",
    "\n",
    "else:\n",
    "    print(f\"Failed to retrieve the webpage. Status code: {ogun_response_3.status_code}\")"
   ]
  },
  {
   "cell_type": "code",
   "execution_count": 72,
   "id": "618f703b",
   "metadata": {},
   "outputs": [
    {
     "name": "stdout",
     "output_type": "stream",
     "text": [
      "Done!\n"
     ]
    }
   ],
   "source": [
    "# For Ondo State\n",
    "\n",
    "ondo_url_1 = 'https://hfr.health.gov.ng/facilities/hospitals-search?_token=9ycyuChNtWK5HxHTOLB9wECGfkZaI8mK2LjPn8tB&state_id=128&lga_id=&ward_id=0&facility_level_id=0&ownership_id=0&operational_status_id=1&registration_status_id=0&license_status_id=0&geo_codes=0&service_type=0&service_category_id=0&facility_name=&entries_per_page=500'\n",
    "ondo_response_1 = requests.get(ondo_url_1)\n",
    "\n",
    "if ondo_response_1.status_code == 200:\n",
    "    ondo_soup_1 = BeautifulSoup(ondo_response_1.text, 'html.parser')\n",
    "    ondo_buttons_1 = ondo_soup_1.find_all('button', class_='btn btn-success btn-sm')\n",
    "\n",
    "    \n",
    "    for ondo_button_1 in ondo_buttons_1:\n",
    "        ondo_data_attributes_1 = {key.replace('data-', ''): value for key, value in ondo_button_1.attrs.items() if key != 'class'}\n",
    "    \n",
    "        extracted_data.append(ondo_data_attributes_1)\n",
    "    print('Done!')\n",
    "\n",
    "else:\n",
    "    print(f\"Failed to retrieve the webpage. Status code: {ondo_response_1.status_code}\")"
   ]
  },
  {
   "cell_type": "code",
   "execution_count": 73,
   "id": "150bc24d",
   "metadata": {},
   "outputs": [
    {
     "name": "stdout",
     "output_type": "stream",
     "text": [
      "Done!\n"
     ]
    }
   ],
   "source": [
    "ondo_url_2 = 'https://hfr.health.gov.ng/facilities/hospitals-search?_token=9ycyuChNtWK5HxHTOLB9wECGfkZaI8mK2LjPn8tB&state_id=128&ward_id=0&facility_level_id=0&ownership_id=0&operational_status_id=1&registration_status_id=0&license_status_id=0&geo_codes=0&service_type=0&service_category_id=0&entries_per_page=500&page=2'\n",
    "ondo_response_2 = requests.get(ondo_url_2)\n",
    "\n",
    "if ondo_response_2.status_code == 200:\n",
    "    ondo_soup_2 = BeautifulSoup(ondo_response_2.text, 'html.parser')\n",
    "    ondo_buttons_2 = ondo_soup_2.find_all('button', class_='btn btn-success btn-sm')\n",
    "\n",
    "    \n",
    "    for ondo_button_2 in ondo_buttons_2:\n",
    "        ondo_data_attributes_2 = {key.replace('data-', ''): value for key, value in ondo_button_2.attrs.items() if key != 'class'}\n",
    "    \n",
    "        extracted_data.append(ondo_data_attributes_2)\n",
    "    print('Done!')\n",
    "\n",
    "else:\n",
    "    print(f\"Failed to retrieve the webpage. Status code: {ondo_response_2.status_code}\")"
   ]
  },
  {
   "cell_type": "code",
   "execution_count": 74,
   "id": "f5d9ae93",
   "metadata": {},
   "outputs": [
    {
     "name": "stdout",
     "output_type": "stream",
     "text": [
      "Done!\n"
     ]
    }
   ],
   "source": [
    "# For Osun State\n",
    "\n",
    "osun_url_1 = 'https://hfr.health.gov.ng/facilities/hospitals-search?_token=9ycyuChNtWK5HxHTOLB9wECGfkZaI8mK2LjPn8tB&state_id=129&lga_id=&ward_id=0&facility_level_id=0&ownership_id=0&operational_status_id=1&registration_status_id=0&license_status_id=0&geo_codes=0&service_type=0&service_category_id=0&facility_name=&entries_per_page=500'\n",
    "osun_response_1 = requests.get(osun_url_1)\n",
    "\n",
    "if osun_response_1.status_code == 200:\n",
    "    osun_soup_1 = BeautifulSoup(osun_response_1.text, 'html.parser')\n",
    "    osun_buttons_1 = osun_soup_1.find_all('button', class_='btn btn-success btn-sm')\n",
    "\n",
    "    \n",
    "    for osun_button_1 in osun_buttons_1:\n",
    "        osun_data_attributes_1 = {key.replace('data-', ''): value for key, value in osun_button_1.attrs.items() if key != 'class'}\n",
    "    \n",
    "        extracted_data.append(osun_data_attributes_1)\n",
    "    print('Done!')\n",
    "\n",
    "else:\n",
    "    print(f\"Failed to retrieve the webpage. Status code: {osun_response_1.status_code}\")"
   ]
  },
  {
   "cell_type": "code",
   "execution_count": 75,
   "id": "05987147",
   "metadata": {},
   "outputs": [
    {
     "name": "stdout",
     "output_type": "stream",
     "text": [
      "Done!\n"
     ]
    }
   ],
   "source": [
    "osun_url_2 = 'https://hfr.health.gov.ng/facilities/hospitals-search?_token=9ycyuChNtWK5HxHTOLB9wECGfkZaI8mK2LjPn8tB&state_id=129&ward_id=0&facility_level_id=0&ownership_id=0&operational_status_id=1&registration_status_id=0&license_status_id=0&geo_codes=0&service_type=0&service_category_id=0&entries_per_page=500&page=2'\n",
    "osun_response_2 = requests.get(osun_url_2)\n",
    "\n",
    "if osun_response_2.status_code == 200:\n",
    "    osun_soup_2 = BeautifulSoup(osun_response_2.text, 'html.parser')\n",
    "    osun_buttons_2 = osun_soup_2.find_all('button', class_='btn btn-success btn-sm')\n",
    "\n",
    "    \n",
    "    for osun_button_2 in osun_buttons_2:\n",
    "        osun_data_attributes_2 = {key.replace('data-', ''): value for key, value in osun_button_2.attrs.items() if key != 'class'}\n",
    "    \n",
    "        extracted_data.append(osun_data_attributes_2)\n",
    "    print('Done!')\n",
    "\n",
    "else:\n",
    "    print(f\"Failed to retrieve the webpage. Status code: {osun_response_2.status_code}\")"
   ]
  },
  {
   "cell_type": "code",
   "execution_count": 76,
   "id": "a8b29b22",
   "metadata": {},
   "outputs": [
    {
     "name": "stdout",
     "output_type": "stream",
     "text": [
      "Done!\n"
     ]
    }
   ],
   "source": [
    "osun_url_3 = 'https://hfr.health.gov.ng/facilities/hospitals-search?_token=9ycyuChNtWK5HxHTOLB9wECGfkZaI8mK2LjPn8tB&state_id=129&ward_id=0&facility_level_id=0&ownership_id=0&operational_status_id=1&registration_status_id=0&license_status_id=0&geo_codes=0&service_type=0&service_category_id=0&entries_per_page=500&page=3'\n",
    "osun_response_3 = requests.get(osun_url_3)\n",
    "\n",
    "if osun_response_3.status_code == 200:\n",
    "    osun_soup_3 = BeautifulSoup(osun_response_3.text, 'html.parser')\n",
    "    osun_buttons_3 = osun_soup_3.find_all('button', class_='btn btn-success btn-sm')\n",
    "\n",
    "    \n",
    "    for osun_button_3 in osun_buttons_3:\n",
    "        osun_data_attributes_3 = {key.replace('data-', ''): value for key, value in osun_button_3.attrs.items() if key != 'class'}\n",
    "    \n",
    "        extracted_data.append(osun_data_attributes_3)\n",
    "    print('Done!')\n",
    "\n",
    "else:\n",
    "    print(f\"Failed to retrieve the webpage. Status code: {osun_response_3.status_code}\")"
   ]
  },
  {
   "cell_type": "code",
   "execution_count": 77,
   "id": "f4104e1d",
   "metadata": {},
   "outputs": [
    {
     "name": "stdout",
     "output_type": "stream",
     "text": [
      "Done!\n"
     ]
    }
   ],
   "source": [
    "# For Oyo State\n",
    "\n",
    "oyo_url_1 = 'https://hfr.health.gov.ng/facilities/hospitals-search?_token=9ycyuChNtWK5HxHTOLB9wECGfkZaI8mK2LjPn8tB&state_id=130&ward_id=0&facility_level_id=0&ownership_id=0&operational_status_id=1&registration_status_id=0&license_status_id=0&geo_codes=0&service_type=0&service_category_id=0&facility_name=&entries_per_page=500'\n",
    "oyo_response_1 = requests.get(oyo_url_1)\n",
    "\n",
    "if oyo_response_1.status_code == 200:\n",
    "    oyo_soup_1 = BeautifulSoup(oyo_response_1.text, 'html.parser')\n",
    "    oyo_buttons_1 = oyo_soup_1.find_all('button', class_='btn btn-success btn-sm')\n",
    "\n",
    "    \n",
    "    for oyo_button_1 in oyo_buttons_1:\n",
    "        oyo_data_attributes_1 = {key.replace('data-', ''): value for key, value in oyo_button_1.attrs.items() if key != 'class'}\n",
    "    \n",
    "        extracted_data.append(oyo_data_attributes_1)\n",
    "    print('Done!')\n",
    "\n",
    "else:\n",
    "    print(f\"Failed to retrieve the webpage. Status code: {oyo_response_1.status_code}\")"
   ]
  },
  {
   "cell_type": "code",
   "execution_count": 78,
   "id": "c4c50a3a",
   "metadata": {},
   "outputs": [
    {
     "name": "stdout",
     "output_type": "stream",
     "text": [
      "Done!\n"
     ]
    }
   ],
   "source": [
    "oyo_url_2 = 'https://hfr.health.gov.ng/facilities/hospitals-search?_token=9ycyuChNtWK5HxHTOLB9wECGfkZaI8mK2LjPn8tB&state_id=130&ward_id=0&facility_level_id=0&ownership_id=0&operational_status_id=1&registration_status_id=0&license_status_id=0&geo_codes=0&service_type=0&service_category_id=0&entries_per_page=500&page=2'\n",
    "oyo_response_2 = requests.get(oyo_url_2)\n",
    "\n",
    "if oyo_response_2.status_code == 200:\n",
    "    oyo_soup_2 = BeautifulSoup(oyo_response_2.text, 'html.parser')\n",
    "    oyo_buttons_2 = oyo_soup_2.find_all('button', class_='btn btn-success btn-sm')\n",
    "\n",
    "    \n",
    "    for oyo_button_2 in oyo_buttons_2:\n",
    "        oyo_data_attributes_2 = {key.replace('data-', ''): value for key, value in oyo_button_2.attrs.items() if key != 'class'}\n",
    "    \n",
    "        extracted_data.append(oyo_data_attributes_2)\n",
    "    print('Done!')\n",
    "\n",
    "else:\n",
    "    print(f\"Failed to retrieve the webpage. Status code: {oyo_response_2.status_code}\")"
   ]
  },
  {
   "cell_type": "code",
   "execution_count": 79,
   "id": "9fd3678c",
   "metadata": {},
   "outputs": [
    {
     "name": "stdout",
     "output_type": "stream",
     "text": [
      "Done!\n"
     ]
    }
   ],
   "source": [
    "oyo_url_3 = 'https://hfr.health.gov.ng/facilities/hospitals-search?_token=9ycyuChNtWK5HxHTOLB9wECGfkZaI8mK2LjPn8tB&state_id=130&ward_id=0&facility_level_id=0&ownership_id=0&operational_status_id=1&registration_status_id=0&license_status_id=0&geo_codes=0&service_type=0&service_category_id=0&entries_per_page=500&page=3'\n",
    "oyo_response_3 = requests.get(oyo_url_3)\n",
    "\n",
    "if oyo_response_3.status_code == 200:\n",
    "    oyo_soup_3 = BeautifulSoup(oyo_response_3.text, 'html.parser')\n",
    "    oyo_buttons_3 = oyo_soup_3.find_all('button', class_='btn btn-success btn-sm')\n",
    "\n",
    "    \n",
    "    for oyo_button_3 in oyo_buttons_3:\n",
    "        oyo_data_attributes_3 = {key.replace('data-', ''): value for key, value in oyo_button_3.attrs.items() if key != 'class'}\n",
    "    \n",
    "        extracted_data.append(oyo_data_attributes_3)\n",
    "    print('Done!')\n",
    "\n",
    "else:\n",
    "    print(f\"Failed to retrieve the webpage. Status code: {oyo_response_3.status_code}\")"
   ]
  },
  {
   "cell_type": "code",
   "execution_count": 80,
   "id": "bb95617a",
   "metadata": {},
   "outputs": [
    {
     "name": "stdout",
     "output_type": "stream",
     "text": [
      "Done!\n"
     ]
    }
   ],
   "source": [
    "# For Plateau\n",
    "\n",
    "plateau_url_1 = 'https://hfr.health.gov.ng/facilities/hospitals-search?_token=I6vht7BcfNT5nTlGeR6ChmEdnCxihcMwofSweAmQ&state_id=131&lga_id=&ward_id=0&facility_level_id=0&ownership_id=0&operational_status_id=1&registration_status_id=0&license_status_id=0&geo_codes=0&service_type=0&service_category_id=0&facility_name=&entries_per_page=500'\n",
    "plateau_response_1 = requests.get(plateau_url_1)\n",
    "\n",
    "if plateau_response_1.status_code == 200:\n",
    "    plateau_soup_1 = BeautifulSoup(plateau_response_1.text, 'html.parser')\n",
    "    plateau_buttons_1 = plateau_soup_1.find_all('button', class_='btn btn-success btn-sm')\n",
    "\n",
    "    \n",
    "    for plateau_button_1 in plateau_buttons_1:\n",
    "        plateau_data_attributes_1 = {key.replace('data-', ''): value for key, value in plateau_button_1.attrs.items() if key != 'class'}\n",
    "    \n",
    "        extracted_data.append(plateau_data_attributes_1)\n",
    "    print('Done!')\n",
    "\n",
    "else:\n",
    "    print(f\"Failed to retrieve the webpage. Status code: {plateau_response_1.status_code}\")"
   ]
  },
  {
   "cell_type": "code",
   "execution_count": 81,
   "id": "fae8f10e",
   "metadata": {},
   "outputs": [
    {
     "name": "stdout",
     "output_type": "stream",
     "text": [
      "Done!\n"
     ]
    }
   ],
   "source": [
    "plateau_url_2 = 'https://hfr.health.gov.ng/facilities/hospitals-search?_token=I6vht7BcfNT5nTlGeR6ChmEdnCxihcMwofSweAmQ&state_id=131&ward_id=0&facility_level_id=0&ownership_id=0&operational_status_id=1&registration_status_id=0&license_status_id=0&geo_codes=0&service_type=0&service_category_id=0&entries_per_page=500&page=2'\n",
    "plateau_response_2 = requests.get(plateau_url_2)\n",
    "\n",
    "if plateau_response_2.status_code == 200:\n",
    "    plateau_soup_2 = BeautifulSoup(plateau_response_2.text, 'html.parser')\n",
    "    plateau_buttons_2 = plateau_soup_2.find_all('button', class_='btn btn-success btn-sm')\n",
    "\n",
    "    \n",
    "    for plateau_button_2 in plateau_buttons_2:\n",
    "        plateau_data_attributes_2 = {key.replace('data-', ''): value for key, value in plateau_button_2.attrs.items() if key != 'class'}\n",
    "    \n",
    "        extracted_data.append(plateau_data_attributes_2)\n",
    "    print('Done!')\n",
    "\n",
    "else:\n",
    "    print(f\"Failed to retrieve the webpage. Status code: {plateau_response_2.status_code}\")"
   ]
  },
  {
   "cell_type": "code",
   "execution_count": 82,
   "id": "f7e15fe0",
   "metadata": {},
   "outputs": [
    {
     "name": "stdout",
     "output_type": "stream",
     "text": [
      "Done!\n"
     ]
    }
   ],
   "source": [
    "plateau_url_3 = 'https://hfr.health.gov.ng/facilities/hospitals-search?_token=I6vht7BcfNT5nTlGeR6ChmEdnCxihcMwofSweAmQ&state_id=131&ward_id=0&facility_level_id=0&ownership_id=0&operational_status_id=1&registration_status_id=0&license_status_id=0&geo_codes=0&service_type=0&service_category_id=0&entries_per_page=500&page=3'\n",
    "plateau_response_3 = requests.get(plateau_url_3)\n",
    "\n",
    "if plateau_response_3.status_code == 200:\n",
    "    plateau_soup_3 = BeautifulSoup(plateau_response_3.text, 'html.parser')\n",
    "    plateau_buttons_3 = plateau_soup_3.find_all('button', class_='btn btn-success btn-sm')\n",
    "\n",
    "    \n",
    "    for plateau_button_3 in plateau_buttons_3:\n",
    "        plateau_data_attributes_3 = {key.replace('data-', ''): value for key, value in plateau_button_3.attrs.items() if key != 'class'}\n",
    "    \n",
    "        extracted_data.append(plateau_data_attributes_3)\n",
    "    print('Done!')\n",
    "\n",
    "else:\n",
    "    print(f\"Failed to retrieve the webpage. Status code: {plateau_response_3.status_code}\")"
   ]
  },
  {
   "cell_type": "code",
   "execution_count": 83,
   "id": "06e2d2c2",
   "metadata": {},
   "outputs": [
    {
     "name": "stdout",
     "output_type": "stream",
     "text": [
      "Done!\n"
     ]
    }
   ],
   "source": [
    "# For Rivers State\n",
    "\n",
    "rivers_url_1 = 'https://hfr.health.gov.ng/facilities/hospitals-search?_token=I6vht7BcfNT5nTlGeR6ChmEdnCxihcMwofSweAmQ&state_id=132&lga_id=&ward_id=0&facility_level_id=0&ownership_id=0&operational_status_id=1&registration_status_id=0&license_status_id=0&geo_codes=0&service_type=0&service_category_id=0&facility_name=&entries_per_page=500'\n",
    "rivers_response_1 = requests.get(rivers_url_1)\n",
    "\n",
    "if rivers_response_1.status_code == 200:\n",
    "    rivers_soup_1 = BeautifulSoup(rivers_response_1.text, 'html.parser')\n",
    "    rivers_buttons_1 = rivers_soup_1.find_all('button', class_='btn btn-success btn-sm')\n",
    "\n",
    "    \n",
    "    for rivers_button_1 in rivers_buttons_1:\n",
    "        rivers_data_attributes_1 = {key.replace('data-', ''): value for key, value in rivers_button_1.attrs.items() if key != 'class'}\n",
    "    \n",
    "        extracted_data.append(rivers_data_attributes_1)\n",
    "    print('Done!')\n",
    "\n",
    "else:\n",
    "    print(f\"Failed to retrieve the webpage. Status code: {rivers_response_1.status_code}\")"
   ]
  },
  {
   "cell_type": "code",
   "execution_count": 84,
   "id": "c599f743",
   "metadata": {},
   "outputs": [
    {
     "name": "stdout",
     "output_type": "stream",
     "text": [
      "Done!\n"
     ]
    }
   ],
   "source": [
    "rivers_url_2 = 'https://hfr.health.gov.ng/facilities/hospitals-search?_token=I6vht7BcfNT5nTlGeR6ChmEdnCxihcMwofSweAmQ&state_id=132&ward_id=0&facility_level_id=0&ownership_id=0&operational_status_id=1&registration_status_id=0&license_status_id=0&geo_codes=0&service_type=0&service_category_id=0&entries_per_page=500&page=2'\n",
    "rivers_response_2 = requests.get(rivers_url_2)\n",
    "\n",
    "if rivers_response_2.status_code == 200:\n",
    "    rivers_soup_2 = BeautifulSoup(rivers_response_2.text, 'html.parser')\n",
    "    rivers_buttons_2 = rivers_soup_2.find_all('button', class_='btn btn-success btn-sm')\n",
    "\n",
    "    \n",
    "    for rivers_button_2 in rivers_buttons_2:\n",
    "        rivers_data_attributes_2 = {key.replace('data-', ''): value for key, value in rivers_button_2.attrs.items() if key != 'class'}\n",
    "    \n",
    "        extracted_data.append(rivers_data_attributes_2)\n",
    "    print('Done!')\n",
    "\n",
    "else:\n",
    "    print(f\"Failed to retrieve the webpage. Status code: {rivers_response_2.status_code}\")"
   ]
  },
  {
   "cell_type": "code",
   "execution_count": 85,
   "id": "7138f232",
   "metadata": {},
   "outputs": [
    {
     "name": "stdout",
     "output_type": "stream",
     "text": [
      "Done!\n"
     ]
    }
   ],
   "source": [
    "# For Sokoto State\n",
    "\n",
    "sokoto_url_1 = 'https://hfr.health.gov.ng/facilities/hospitals-search?_token=I6vht7BcfNT5nTlGeR6ChmEdnCxihcMwofSweAmQ&state_id=133&lga_id=&ward_id=0&facility_level_id=0&ownership_id=0&operational_status_id=1&registration_status_id=0&license_status_id=0&geo_codes=0&service_type=0&service_category_id=0&facility_name=&entries_per_page=500'\n",
    "sokoto_response_1 = requests.get(sokoto_url_1)\n",
    "\n",
    "if sokoto_response_1.status_code == 200:\n",
    "    sokoto_soup_1 = BeautifulSoup(sokoto_response_1.text, 'html.parser')\n",
    "    sokoto_buttons_1 = sokoto_soup_1.find_all('button', class_='btn btn-success btn-sm')\n",
    "\n",
    "    \n",
    "    for sokoto_button_1 in sokoto_buttons_1:\n",
    "        sokoto_data_attributes_1 = {key.replace('data-', ''): value for key, value in sokoto_button_1.attrs.items() if key != 'class'}\n",
    "    \n",
    "        extracted_data.append(sokoto_data_attributes_1)\n",
    "    print('Done!')\n",
    "\n",
    "else:\n",
    "    print(f\"Failed to retrieve the webpage. Status code: {sokoto_response_1.status_code}\")"
   ]
  },
  {
   "cell_type": "code",
   "execution_count": 86,
   "id": "cb9b5fb6",
   "metadata": {},
   "outputs": [
    {
     "name": "stdout",
     "output_type": "stream",
     "text": [
      "Done!\n"
     ]
    }
   ],
   "source": [
    "sokoto_url_2 = 'https://hfr.health.gov.ng/facilities/hospitals-search?_token=I6vht7BcfNT5nTlGeR6ChmEdnCxihcMwofSweAmQ&state_id=133&ward_id=0&facility_level_id=0&ownership_id=0&operational_status_id=1&registration_status_id=0&license_status_id=0&geo_codes=0&service_type=0&service_category_id=0&entries_per_page=500&page=2'\n",
    "sokoto_response_2 = requests.get(sokoto_url_2)\n",
    "\n",
    "if sokoto_response_2.status_code == 200:\n",
    "    sokoto_soup_2 = BeautifulSoup(sokoto_response_2.text, 'html.parser')\n",
    "    sokoto_buttons_2 = sokoto_soup_2.find_all('button', class_='btn btn-success btn-sm')\n",
    "\n",
    "    \n",
    "    for sokoto_button_2 in sokoto_buttons_2:\n",
    "        sokoto_data_attributes_2 = {key.replace('data-', ''): value for key, value in sokoto_button_2.attrs.items() if key != 'class'}\n",
    "    \n",
    "        extracted_data.append(sokoto_data_attributes_2)\n",
    "    print('Done!')\n",
    "\n",
    "else:\n",
    "    print(f\"Failed to retrieve the webpage. Status code: {sokoto_response_2.status_code}\")"
   ]
  },
  {
   "cell_type": "code",
   "execution_count": 87,
   "id": "cb3bd9d8",
   "metadata": {},
   "outputs": [
    {
     "name": "stdout",
     "output_type": "stream",
     "text": [
      "Done!\n"
     ]
    }
   ],
   "source": [
    "# For Taraba State\n",
    "\n",
    "taraba_url_1 = 'https://hfr.health.gov.ng/facilities/hospitals-search?_token=I6vht7BcfNT5nTlGeR6ChmEdnCxihcMwofSweAmQ&state_id=134&lga_id=&ward_id=0&facility_level_id=0&ownership_id=0&operational_status_id=1&registration_status_id=0&license_status_id=0&geo_codes=0&service_type=0&service_category_id=0&facility_name=&entries_per_page=500'\n",
    "taraba_response_1 = requests.get(taraba_url_1)\n",
    "\n",
    "if taraba_response_1.status_code == 200:\n",
    "    taraba_soup_1 = BeautifulSoup(taraba_response_1.text, 'html.parser')\n",
    "    taraba_buttons_1 = taraba_soup_1.find_all('button', class_='btn btn-success btn-sm')\n",
    "\n",
    "    \n",
    "    for taraba_button_1 in taraba_buttons_1:\n",
    "        taraba_data_attributes_1 = {key.replace('data-', ''): value for key, value in taraba_button_1.attrs.items() if key != 'class'}\n",
    "    \n",
    "        extracted_data.append(taraba_data_attributes_1)\n",
    "    print('Done!')\n",
    "\n",
    "else:\n",
    "    print(f\"Failed to retrieve the webpage. Status code: {taraba_response_1.status_code}\")"
   ]
  },
  {
   "cell_type": "code",
   "execution_count": 88,
   "id": "34b1e5bd",
   "metadata": {},
   "outputs": [
    {
     "name": "stdout",
     "output_type": "stream",
     "text": [
      "Done!\n"
     ]
    }
   ],
   "source": [
    "taraba_url_2 = 'https://hfr.health.gov.ng/facilities/hospitals-search?_token=I6vht7BcfNT5nTlGeR6ChmEdnCxihcMwofSweAmQ&state_id=134&ward_id=0&facility_level_id=0&ownership_id=0&operational_status_id=1&registration_status_id=0&license_status_id=0&geo_codes=0&service_type=0&service_category_id=0&entries_per_page=500&page=2'\n",
    "taraba_response_2 = requests.get(taraba_url_2)\n",
    "\n",
    "if taraba_response_2.status_code == 200:\n",
    "    taraba_soup_2 = BeautifulSoup(taraba_response_2.text, 'html.parser')\n",
    "    taraba_buttons_2 = taraba_soup_2.find_all('button', class_='btn btn-success btn-sm')\n",
    "\n",
    "    \n",
    "    for taraba_button_2 in taraba_buttons_2:\n",
    "        taraba_data_attributes_2 = {key.replace('data-', ''): value for key, value in taraba_button_2.attrs.items() if key != 'class'}\n",
    "    \n",
    "        extracted_data.append(taraba_data_attributes_2)\n",
    "    print('Done!')\n",
    "\n",
    "else:\n",
    "    print(f\"Failed to retrieve the webpage. Status code: {taraba_response_2.status_code}\")"
   ]
  },
  {
   "cell_type": "code",
   "execution_count": 89,
   "id": "61d5753d",
   "metadata": {},
   "outputs": [
    {
     "name": "stdout",
     "output_type": "stream",
     "text": [
      "Done!\n"
     ]
    }
   ],
   "source": [
    "# For Yobe State\n",
    "\n",
    "yobe_url_1 = 'https://hfr.health.gov.ng/facilities/hospitals-search?_token=I6vht7BcfNT5nTlGeR6ChmEdnCxihcMwofSweAmQ&state_id=135&lga_id=&ward_id=0&facility_level_id=0&ownership_id=0&operational_status_id=1&registration_status_id=0&license_status_id=0&geo_codes=0&service_type=0&service_category_id=0&facility_name=&entries_per_page=500'\n",
    "yobe_response_1 = requests.get(yobe_url_1)\n",
    "\n",
    "if yobe_response_1.status_code == 200:\n",
    "    yobe_soup_1 = BeautifulSoup(yobe_response_1.text, 'html.parser')\n",
    "    yobe_buttons_1 = yobe_soup_1.find_all('button', class_='btn btn-success btn-sm')\n",
    "\n",
    "    \n",
    "    for yobe_button_1 in yobe_buttons_1:\n",
    "        yobe_data_attributes_1 = {key.replace('data-', ''): value for key, value in yobe_button_1.attrs.items() if key != 'class'}\n",
    "    \n",
    "        extracted_data.append(yobe_data_attributes_1)\n",
    "    print('Done!')\n",
    "\n",
    "else:\n",
    "    print(f\"Failed to retrieve the webpage. Status code: {yobe_response_1.status_code}\")"
   ]
  },
  {
   "cell_type": "code",
   "execution_count": 90,
   "id": "034d41c1",
   "metadata": {},
   "outputs": [
    {
     "name": "stdout",
     "output_type": "stream",
     "text": [
      "Done!\n"
     ]
    }
   ],
   "source": [
    "yobe_url_2 = 'https://hfr.health.gov.ng/facilities/hospitals-search?_token=I6vht7BcfNT5nTlGeR6ChmEdnCxihcMwofSweAmQ&state_id=135&ward_id=0&facility_level_id=0&ownership_id=0&operational_status_id=1&registration_status_id=0&license_status_id=0&geo_codes=0&service_type=0&service_category_id=0&entries_per_page=500&page=2'\n",
    "yobe_response_2 = requests.get(yobe_url_2)\n",
    "\n",
    "if yobe_response_2.status_code == 200:\n",
    "    yobe_soup_2 = BeautifulSoup(yobe_response_2.text, 'html.parser')\n",
    "    yobe_buttons_2 = yobe_soup_2.find_all('button', class_='btn btn-success btn-sm')\n",
    "\n",
    "    \n",
    "    for yobe_button_2 in yobe_buttons_2:\n",
    "        yobe_data_attributes_2 = {key.replace('data-', ''): value for key, value in yobe_button_2.attrs.items() if key != 'class'}\n",
    "    \n",
    "        extracted_data.append(yobe_data_attributes_2)\n",
    "    print('Done!')\n",
    "\n",
    "else:\n",
    "    print(f\"Failed to retrieve the webpage. Status code: {yobe_response_2.status_code}\")"
   ]
  },
  {
   "cell_type": "code",
   "execution_count": 91,
   "id": "6712f41f",
   "metadata": {},
   "outputs": [
    {
     "name": "stdout",
     "output_type": "stream",
     "text": [
      "Done!\n"
     ]
    }
   ],
   "source": [
    "# For Zamfara State\n",
    "\n",
    "zamfara_url_1 = 'https://hfr.health.gov.ng/facilities/hospitals-search?_token=I6vht7BcfNT5nTlGeR6ChmEdnCxihcMwofSweAmQ&state_id=136&lga_id=&ward_id=0&facility_level_id=0&ownership_id=0&operational_status_id=1&registration_status_id=0&license_status_id=0&geo_codes=0&service_type=0&service_category_id=0&facility_name=&entries_per_page=500'\n",
    "zamfara_response_1 = requests.get(zamfara_url_1)\n",
    "\n",
    "if zamfara_response_1.status_code == 200:\n",
    "    zamfara_soup_1 = BeautifulSoup(zamfara_response_1.text, 'html.parser')\n",
    "    zamfara_buttons_1 = zamfara_soup_1.find_all('button', class_='btn btn-success btn-sm')\n",
    "\n",
    "    \n",
    "    for zamfara_button_1 in zamfara_buttons_1:\n",
    "        zamfara_data_attributes_1 = {key.replace('data-', ''): value for key, value in zamfara_button_1.attrs.items() if key != 'class'}\n",
    "    \n",
    "        extracted_data.append(zamfara_data_attributes_1)\n",
    "    print('Done!')\n",
    "\n",
    "else:\n",
    "    print(f\"Failed to retrieve the webpage. Status code: {zamfara_response_1.status_code}\")"
   ]
  },
  {
   "cell_type": "code",
   "execution_count": 92,
   "id": "ed40ecdf",
   "metadata": {},
   "outputs": [
    {
     "name": "stdout",
     "output_type": "stream",
     "text": [
      "Done!\n"
     ]
    }
   ],
   "source": [
    "zamfara_url_2 = 'https://hfr.health.gov.ng/facilities/hospitals-search?_token=I6vht7BcfNT5nTlGeR6ChmEdnCxihcMwofSweAmQ&state_id=136&ward_id=0&facility_level_id=0&ownership_id=0&operational_status_id=1&registration_status_id=0&license_status_id=0&geo_codes=0&service_type=0&service_category_id=0&entries_per_page=500&page=2'\n",
    "zamfara_response_2 = requests.get(zamfara_url_2)\n",
    "\n",
    "if zamfara_response_2.status_code == 200:\n",
    "    zamfara_soup_2 = BeautifulSoup(zamfara_response_2.text, 'html.parser')\n",
    "    zamfara_buttons_2 = zamfara_soup_2.find_all('button', class_='btn btn-success btn-sm')\n",
    "\n",
    "    \n",
    "    for zamfara_button_2 in zamfara_buttons_2:\n",
    "        zamfara_data_attributes_2 = {key.replace('data-', ''): value for key, value in zamfara_button_2.attrs.items() if key != 'class'}\n",
    "    \n",
    "        extracted_data.append(zamfara_data_attributes_2)\n",
    "    print('Done!')\n",
    "\n",
    "else:\n",
    "    print(f\"Failed to retrieve the webpage. Status code: {zamfara_response_2.status_code}\")"
   ]
  },
  {
   "cell_type": "code",
   "execution_count": 93,
   "id": "a1611f9e",
   "metadata": {},
   "outputs": [
    {
     "data": {
      "text/plain": [
       "36728"
      ]
     },
     "execution_count": 93,
     "metadata": {},
     "output_type": "execute_result"
    }
   ],
   "source": [
    "len(extracted_data)"
   ]
  },
  {
   "cell_type": "code",
   "execution_count": 94,
   "id": "05dde218",
   "metadata": {},
   "outputs": [],
   "source": [
    "import pandas as pd"
   ]
  },
  {
   "cell_type": "code",
   "execution_count": 96,
   "id": "a6ed6afa",
   "metadata": {},
   "outputs": [],
   "source": [
    "# So let us convert the scarped data in a dataframe for data cleaning & analysis\n",
    "\n",
    "df = pd.DataFrame(extracted_data)"
   ]
  },
  {
   "cell_type": "code",
   "execution_count": 97,
   "id": "aaff74c8",
   "metadata": {},
   "outputs": [
    {
     "data": {
      "text/html": [
       "<div>\n",
       "<style scoped>\n",
       "    .dataframe tbody tr th:only-of-type {\n",
       "        vertical-align: middle;\n",
       "    }\n",
       "\n",
       "    .dataframe tbody tr th {\n",
       "        vertical-align: top;\n",
       "    }\n",
       "\n",
       "    .dataframe thead th {\n",
       "        text-align: right;\n",
       "    }\n",
       "</style>\n",
       "<table border=\"1\" class=\"dataframe\">\n",
       "  <thead>\n",
       "    <tr style=\"text-align: right;\">\n",
       "      <th></th>\n",
       "      <th>type</th>\n",
       "      <th>toggle</th>\n",
       "      <th>target</th>\n",
       "      <th>id</th>\n",
       "      <th>unique_id</th>\n",
       "      <th>registration_no</th>\n",
       "      <th>start_date</th>\n",
       "      <th>facility_name</th>\n",
       "      <th>alt_facility_name</th>\n",
       "      <th>state</th>\n",
       "      <th>...</th>\n",
       "      <th>inpatient</th>\n",
       "      <th>outpatient</th>\n",
       "      <th>beds</th>\n",
       "      <th>onsite_laboratory</th>\n",
       "      <th>onsite_imaging</th>\n",
       "      <th>onsite_pharmarcy</th>\n",
       "      <th>mortuary_services</th>\n",
       "      <th>attendants</th>\n",
       "      <th>ambulance_services</th>\n",
       "      <th>state_unique_id</th>\n",
       "    </tr>\n",
       "  </thead>\n",
       "  <tbody>\n",
       "    <tr>\n",
       "      <th>0</th>\n",
       "      <td>button</td>\n",
       "      <td>modal</td>\n",
       "      <td>#view_details</td>\n",
       "      <td>48319756</td>\n",
       "      <td>01/01/1/1/2/0001</td>\n",
       "      <td></td>\n",
       "      <td>2003-10-05</td>\n",
       "      <td>Aba Holy Wounds Hospital</td>\n",
       "      <td></td>\n",
       "      <td>Abia</td>\n",
       "      <td>...</td>\n",
       "      <td>Yes</td>\n",
       "      <td>Yes</td>\n",
       "      <td>14</td>\n",
       "      <td>Yes</td>\n",
       "      <td>Yes</td>\n",
       "      <td>Yes</td>\n",
       "      <td></td>\n",
       "      <td>0</td>\n",
       "      <td>Yes</td>\n",
       "      <td></td>\n",
       "    </tr>\n",
       "    <tr>\n",
       "      <th>1</th>\n",
       "      <td>button</td>\n",
       "      <td>modal</td>\n",
       "      <td>#view_details</td>\n",
       "      <td>63964073</td>\n",
       "      <td>01/01/1/1/2/0012</td>\n",
       "      <td></td>\n",
       "      <td></td>\n",
       "      <td>Chidima Hospital</td>\n",
       "      <td></td>\n",
       "      <td>Abia</td>\n",
       "      <td>...</td>\n",
       "      <td></td>\n",
       "      <td></td>\n",
       "      <td></td>\n",
       "      <td></td>\n",
       "      <td></td>\n",
       "      <td></td>\n",
       "      <td></td>\n",
       "      <td></td>\n",
       "      <td>No</td>\n",
       "      <td></td>\n",
       "    </tr>\n",
       "    <tr>\n",
       "      <th>2</th>\n",
       "      <td>button</td>\n",
       "      <td>modal</td>\n",
       "      <td>#view_details</td>\n",
       "      <td>26456575</td>\n",
       "      <td>01/01/1/1/2/0025</td>\n",
       "      <td></td>\n",
       "      <td>2008-12-03</td>\n",
       "      <td>Euna Hospital</td>\n",
       "      <td></td>\n",
       "      <td>Abia</td>\n",
       "      <td>...</td>\n",
       "      <td>Yes</td>\n",
       "      <td>Yes</td>\n",
       "      <td>17</td>\n",
       "      <td>Yes</td>\n",
       "      <td></td>\n",
       "      <td>Yes</td>\n",
       "      <td></td>\n",
       "      <td>0</td>\n",
       "      <td>No</td>\n",
       "      <td></td>\n",
       "    </tr>\n",
       "    <tr>\n",
       "      <th>3</th>\n",
       "      <td>button</td>\n",
       "      <td>modal</td>\n",
       "      <td>#view_details</td>\n",
       "      <td>73938255</td>\n",
       "      <td>01/01/1/1/2/0030</td>\n",
       "      <td></td>\n",
       "      <td>2009-02-06</td>\n",
       "      <td>Goodness &amp; Mercy hospital</td>\n",
       "      <td></td>\n",
       "      <td>Abia</td>\n",
       "      <td>...</td>\n",
       "      <td>Yes</td>\n",
       "      <td>Yes</td>\n",
       "      <td>12</td>\n",
       "      <td>Yes</td>\n",
       "      <td></td>\n",
       "      <td>Yes</td>\n",
       "      <td></td>\n",
       "      <td>4</td>\n",
       "      <td>No</td>\n",
       "      <td></td>\n",
       "    </tr>\n",
       "    <tr>\n",
       "      <th>4</th>\n",
       "      <td>button</td>\n",
       "      <td>modal</td>\n",
       "      <td>#view_details</td>\n",
       "      <td>40844348</td>\n",
       "      <td>01/01/1/1/2/0031</td>\n",
       "      <td></td>\n",
       "      <td></td>\n",
       "      <td>Green Land Hospital</td>\n",
       "      <td></td>\n",
       "      <td>Abia</td>\n",
       "      <td>...</td>\n",
       "      <td></td>\n",
       "      <td></td>\n",
       "      <td></td>\n",
       "      <td></td>\n",
       "      <td></td>\n",
       "      <td></td>\n",
       "      <td></td>\n",
       "      <td></td>\n",
       "      <td>No</td>\n",
       "      <td></td>\n",
       "    </tr>\n",
       "  </tbody>\n",
       "</table>\n",
       "<p>5 rows × 54 columns</p>\n",
       "</div>"
      ],
      "text/plain": [
       "     type toggle         target        id         unique_id registration_no  \\\n",
       "0  button  modal  #view_details  48319756  01/01/1/1/2/0001                   \n",
       "1  button  modal  #view_details  63964073  01/01/1/1/2/0012                   \n",
       "2  button  modal  #view_details  26456575  01/01/1/1/2/0025                   \n",
       "3  button  modal  #view_details  73938255  01/01/1/1/2/0030                   \n",
       "4  button  modal  #view_details  40844348  01/01/1/1/2/0031                   \n",
       "\n",
       "   start_date              facility_name alt_facility_name state  ...  \\\n",
       "0  2003-10-05   Aba Holy Wounds Hospital                    Abia  ...   \n",
       "1                       Chidima Hospital                    Abia  ...   \n",
       "2  2008-12-03              Euna Hospital                    Abia  ...   \n",
       "3  2009-02-06  Goodness & Mercy hospital                    Abia  ...   \n",
       "4                    Green Land Hospital                    Abia  ...   \n",
       "\n",
       "  inpatient outpatient beds onsite_laboratory onsite_imaging onsite_pharmarcy  \\\n",
       "0       Yes        Yes   14               Yes            Yes              Yes   \n",
       "1                                                                               \n",
       "2       Yes        Yes   17               Yes                             Yes   \n",
       "3       Yes        Yes   12               Yes                             Yes   \n",
       "4                                                                               \n",
       "\n",
       "  mortuary_services attendants ambulance_services state_unique_id  \n",
       "0                            0                Yes                  \n",
       "1                                              No                  \n",
       "2                            0                 No                  \n",
       "3                            4                 No                  \n",
       "4                                              No                  \n",
       "\n",
       "[5 rows x 54 columns]"
      ]
     },
     "execution_count": 97,
     "metadata": {},
     "output_type": "execute_result"
    }
   ],
   "source": [
    "df.head()"
   ]
  },
  {
   "cell_type": "code",
   "execution_count": 98,
   "id": "d9a60ce4",
   "metadata": {},
   "outputs": [],
   "source": [
    "# Let us save our dataframe into a csv file\n",
    "\n",
    "df.to_csv('hospital&clinic_data.csv', index=False)"
   ]
  },
  {
   "cell_type": "code",
   "execution_count": null,
   "id": "b23c4b2a",
   "metadata": {},
   "outputs": [],
   "source": []
  }
 ],
 "metadata": {
  "kernelspec": {
   "display_name": "Python 3 (ipykernel)",
   "language": "python",
   "name": "python3"
  },
  "language_info": {
   "codemirror_mode": {
    "name": "ipython",
    "version": 3
   },
   "file_extension": ".py",
   "mimetype": "text/x-python",
   "name": "python",
   "nbconvert_exporter": "python",
   "pygments_lexer": "ipython3",
   "version": "3.11.0"
  }
 },
 "nbformat": 4,
 "nbformat_minor": 5
}
